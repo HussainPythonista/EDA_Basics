{
  "nbformat": 4,
  "nbformat_minor": 0,
  "metadata": {
    "colab": {
      "name": "needToDelete.ipynb",
      "provenance": [],
      "authorship_tag": "ABX9TyM29kBPEA69tMA+Hi5tIvM2",
      "include_colab_link": true
    },
    "kernelspec": {
      "name": "python3",
      "display_name": "Python 3"
    },
    "language_info": {
      "name": "python"
    }
  },
  "cells": [
    {
      "cell_type": "markdown",
      "metadata": {
        "id": "view-in-github",
        "colab_type": "text"
      },
      "source": [
        "<a href=\"https://colab.research.google.com/github/HussainPythonista/EDA_Basics/blob/main/hypothesisGradedQuestion.ipynb\" target=\"_parent\"><img src=\"https://colab.research.google.com/assets/colab-badge.svg\" alt=\"Open In Colab\"/></a>"
      ]
    },
    {
      "cell_type": "code",
      "execution_count": 18,
      "metadata": {
        "colab": {
          "base_uri": "https://localhost:8080/"
        },
        "id": "ENktROfRU2Ky",
        "outputId": "0c240123-6443-48f7-ee34-583a117774a2"
      },
      "outputs": [
        {
          "output_type": "execute_result",
          "data": {
            "text/plain": [
              "['a', 'c', 'd']"
            ]
          },
          "metadata": {},
          "execution_count": 18
        }
      ],
      "source": [
        "def char_frequency(string,n):\n",
        "\n",
        "  #Hash tables are perform better in call the specific value with key and hash tables are perform better in frequency type of problems\n",
        "  #Hash Table\n",
        "  letter_freq = dict()#Hash Table\n",
        "  \n",
        "  #get the letter one by one using for loop\n",
        "  for letter in string:\n",
        "\n",
        "    #The condition statements which is use for to check the specific character are present in hash table\n",
        "\n",
        "    #If character are not present in hash table we set the value as 1\n",
        "\n",
        "    if letter not in letter_freq.keys():\n",
        "      letter_freq[letter] = 1\n",
        "\n",
        "    #If specific character already present in hash table i just increase frequency \n",
        "    else:\n",
        "      letter_freq[letter] += 1\n",
        "\n",
        "\n",
        "  #In problem we want the character which having high frequency is first likewise for others too,so i sort the charater with frequency in decending order\n",
        "  \n",
        "  #Need To remeber\n",
        "    #letter_freq.items()->The items() function in python return the Tuple of (key,values).,eg:(\"d\",4),like this for everything\n",
        "    #lambda x:x[1] ->I use this lambda keyword for to sort the value with 2nd value in tuple in this case (\"d\",4),i use 4 for sort\n",
        "    #reverse=true ->For reverse in decending order\n",
        "  listOfTuples=sorted(letter_freq.items(),key=lambda x:x[1],reverse=True)\n",
        "  \n",
        "  #We need only n number of character so we slice that with n number\n",
        "  untilN=listOfTuples[:n]\n",
        "\n",
        "  #list is best way to store the values\n",
        "  final_list = []\n",
        "\n",
        "  #Unpack the list of character in a single character\n",
        "  for tup in untilN:\n",
        "\n",
        "    #Append the character into the final list\n",
        "    final_list.append(tup[0]) \n",
        "   \n",
        "  #return the sorted final list because,we want display the value in ascending order as answer\n",
        "  return(sorted(final_list))\n",
        "#print(char_frequency(\"ddddaacccb\",3))\n",
        "char_frequency(\"ddddaacccb\",3)#Calling function"
      ]
    },
    {
      "cell_type": "code",
      "source": [
        "#Import the numpy \n",
        "#Because we need to return the answer in numpy.array format\n",
        "import numpy as np\n",
        "\n",
        "#Input variables\n",
        "x=3\n",
        "y=6\n",
        "\n",
        "#Create function\n",
        "def TwoDArray(row,column):\n",
        "\n",
        "    #We need to return the 2D array \n",
        "    #It help to store the list inside the list\n",
        "    box=[]\n",
        "    for rows in range(row):#Outer loop iterate x number of times and it act like a rows\n",
        "\n",
        "      tempPack=[]#Store the values in 1D format\n",
        "      for cols in range(column):#inner loop iterate y number of times and it act like a column\n",
        "\n",
        "        #Our Task is add the row number and column number and divide it with 2\n",
        "        task=(rows+cols)/2\n",
        "        #Append the answer to the inner list\n",
        "        tempPack.append(task)\n",
        "\n",
        "      #After completing the execution of inner loop we should add the list inside the main list i.e box list\n",
        "      box.append(tempPack)\n",
        "    \n",
        "    return np.array(box)#We should return the array in numpy array\n",
        "print(TwoDArray(x,y))"
      ],
      "metadata": {
        "colab": {
          "base_uri": "https://localhost:8080/"
        },
        "id": "t8h9_cNGR7tP",
        "outputId": "4620fefc-c528-4353-f5da-c71de769b7b3"
      },
      "execution_count": 1,
      "outputs": [
        {
          "output_type": "stream",
          "name": "stdout",
          "text": [
            "[[0.  0.5 1.  1.5 2.  2.5]\n",
            " [0.5 1.  1.5 2.  2.5 3. ]\n",
            " [1.  1.5 2.  2.5 3.  3.5]]\n"
          ]
        }
      ]
    }
  ]
}