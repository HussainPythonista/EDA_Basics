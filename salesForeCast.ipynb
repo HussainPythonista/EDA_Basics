{
  "nbformat": 4,
  "nbformat_minor": 0,
  "metadata": {
    "colab": {
      "name": "salesForeCast.ipynb",
      "provenance": [],
      "collapsed_sections": [
        "-wOieqKwpAp-",
        "lQD45lSKsSQ5",
        "6CvHxJ1EvNdV"
      ]
    },
    "kernelspec": {
      "name": "python3",
      "display_name": "Python 3"
    },
    "language_info": {
      "name": "python"
    }
  },
  "cells": [
    {
      "cell_type": "markdown",
      "metadata": {
        "id": "rrCateqp40Uy"
      },
      "source": [
        "#Mount Drive before analyse"
      ]
    },
    {
      "cell_type": "code",
      "metadata": {
        "id": "NZ8oeqTpcYm4"
      },
      "source": [
        "#Importing the libraries\n",
        "import pandas as pd\n",
        "import numpy as np\n",
        "import matplotlib.pyplot as plt\n",
        "import seaborn as sb "
      ],
      "execution_count": 1,
      "outputs": []
    },
    {
      "cell_type": "code",
      "metadata": {
        "colab": {
          "base_uri": "https://localhost:8080/"
        },
        "id": "vnrdQ6yfkP5f",
        "outputId": "8d8c05bd-5f82-4e1f-d25a-188e66cb9958"
      },
      "source": [
        "from google.colab import drive\n",
        "drive.mount('/content/drive')"
      ],
      "execution_count": 2,
      "outputs": [
        {
          "output_type": "stream",
          "name": "stdout",
          "text": [
            "Drive already mounted at /content/drive; to attempt to forcibly remount, call drive.mount(\"/content/drive\", force_remount=True).\n"
          ]
        }
      ]
    },
    {
      "cell_type": "code",
      "metadata": {
        "id": "kOHCiKgjdk8U"
      },
      "source": [
        "#Load Data from Google Drive\n",
        "April=pd.read_csv(\"/content/drive/MyDrive/EDA/salesData/Sales_April_2019.csv\")\n",
        "August=pd.read_csv(\"/content/drive/MyDrive/EDA/salesData/Sales_August_2019.csv\")\n",
        "December=pd.read_csv(\"/content/drive/MyDrive/EDA/salesData/Sales_December_2019.csv\")\n",
        "February=pd.read_csv(\"/content/drive/MyDrive/EDA/salesData/Sales_February_2019.csv\")\n",
        "January=pd.read_csv(\"/content/drive/MyDrive/EDA/salesData/Sales_January_2019.csv\")\n",
        "July=pd.read_csv(\"/content/drive/MyDrive/EDA/salesData/Sales_July_2019.csv\")\n",
        "June=pd.read_csv(\"/content/drive/MyDrive/EDA/salesData/Sales_June_2019.csv\")\n",
        "March=pd.read_csv(\"/content/drive/MyDrive/EDA/salesData/Sales_March_2019.csv\")\n",
        "May=pd.read_csv(\"/content/drive/MyDrive/EDA/salesData/Sales_May_2019.csv\")\n",
        "November=pd.read_csv(\"/content/drive/MyDrive/EDA/salesData/Sales_November_2019.csv\")\n",
        "September=pd.read_csv(\"/content/drive/MyDrive/EDA/salesData/Sales_September_2019.csv\")\n",
        "October=pd.read_csv(\"/content/drive/MyDrive/EDA/salesData/Sales_October_2019.csv\")"
      ],
      "execution_count": 3,
      "outputs": []
    },
    {
      "cell_type": "markdown",
      "metadata": {
        "id": "J76MIKdsl4VC"
      },
      "source": [
        "###Concate all loaded DataSet"
      ]
    },
    {
      "cell_type": "code",
      "metadata": {
        "id": "b1ic9rRYkNgk"
      },
      "source": [
        "dataSet=pd.concat([January,February,March,April,March,June,July,August,September,October,November,December],axis=0)"
      ],
      "execution_count": 4,
      "outputs": []
    },
    {
      "cell_type": "code",
      "metadata": {
        "colab": {
          "base_uri": "https://localhost:8080/"
        },
        "id": "ey0PRNr6lhV5",
        "outputId": "2441c9b0-fe76-486f-c4ee-c0ead6707764"
      },
      "source": [
        "dataSet.info()"
      ],
      "execution_count": 5,
      "outputs": [
        {
          "output_type": "stream",
          "name": "stdout",
          "text": [
            "<class 'pandas.core.frame.DataFrame'>\n",
            "Int64Index: 185441 entries, 0 to 25116\n",
            "Data columns (total 6 columns):\n",
            " #   Column            Non-Null Count   Dtype \n",
            "---  ------            --------------   ----- \n",
            " 0   Order ID          184907 non-null  object\n",
            " 1   Product           184907 non-null  object\n",
            " 2   Quantity Ordered  184907 non-null  object\n",
            " 3   Price Each        184907 non-null  object\n",
            " 4   Order Date        184907 non-null  object\n",
            " 5   Purchase Address  184907 non-null  object\n",
            "dtypes: object(6)\n",
            "memory usage: 9.9+ MB\n"
          ]
        }
      ]
    },
    {
      "cell_type": "markdown",
      "metadata": {
        "id": "RBGSgJv5mRnR"
      },
      "source": [
        "**Drop the rows which contains all rows in the particular column is null**"
      ]
    },
    {
      "cell_type": "code",
      "metadata": {
        "id": "Uy2GxLTdl9d6"
      },
      "source": [
        "dataSet=dataSet[~(dataSet[\"Order ID\"].isna())]"
      ],
      "execution_count": 6,
      "outputs": []
    },
    {
      "cell_type": "markdown",
      "metadata": {
        "id": "wDGUTmhXnDiL"
      },
      "source": [
        "**Check which product sell most**"
      ]
    },
    {
      "cell_type": "code",
      "metadata": {
        "id": "DdO4_uidmjqG"
      },
      "source": [
        "totalSales=dataSet[\"Product\"].value_counts()"
      ],
      "execution_count": 7,
      "outputs": []
    },
    {
      "cell_type": "code",
      "metadata": {
        "colab": {
          "base_uri": "https://localhost:8080/"
        },
        "id": "3pDfYd2y0gib",
        "outputId": "f1006a8e-4e22-4ee3-f9b3-a86fdb124211"
      },
      "source": [
        "totalSales"
      ],
      "execution_count": 8,
      "outputs": [
        {
          "output_type": "execute_result",
          "data": {
            "text/plain": [
              "USB-C Charging Cable          21789\n",
              "Lightning Charging Cable      21481\n",
              "AA Batteries (4-pack)         20431\n",
              "AAA Batteries (4-pack)        20392\n",
              "Wired Headphones              18664\n",
              "Apple Airpods Headphones      15513\n",
              "Bose SoundSport Headphones    13343\n",
              "27in FHD Monitor               7427\n",
              "iPhone                         6740\n",
              "27in 4K Gaming Monitor         6167\n",
              "34in Ultrawide Monitor         6161\n",
              "Google Phone                   5509\n",
              "Flatscreen TV                  4760\n",
              "Macbook Pro Laptop             4642\n",
              "ThinkPad Laptop                4104\n",
              "20in Monitor                   4088\n",
              "Vareebadd Phone                2053\n",
              "LG Washing Machine              666\n",
              "LG Dryer                        620\n",
              "Product                         357\n",
              "Name: Product, dtype: int64"
            ]
          },
          "metadata": {},
          "execution_count": 8
        }
      ]
    },
    {
      "cell_type": "code",
      "metadata": {
        "colab": {
          "base_uri": "https://localhost:8080/",
          "height": 282
        },
        "id": "e3kVZRhZoKF9",
        "outputId": "f21b848c-1d5a-46f1-a0f6-b739d68bfa7f"
      },
      "source": [
        "totalSales.plot.barh()"
      ],
      "execution_count": 9,
      "outputs": [
        {
          "output_type": "execute_result",
          "data": {
            "text/plain": [
              "<matplotlib.axes._subplots.AxesSubplot at 0x7f4580b5c150>"
            ]
          },
          "metadata": {},
          "execution_count": 9
        },
        {
          "output_type": "display_data",
          "data": {
            "image/png": "[encoded data removed]",
            "text/plain": [
              "<Figure size 432x288 with 1 Axes>"
            ]
          },
          "metadata": {
            "needs_background": "light"
          }
        }
      ]
    },
    {
      "cell_type": "code",
      "metadata": {
        "id": "5v5CEqYLo6He"
      },
      "source": [
        "plotValues=totalSales[dataSet[\"Product\"].unique()]"
      ],
      "execution_count": 10,
      "outputs": []
    },
    {
      "cell_type": "code",
      "metadata": {
        "colab": {
          "base_uri": "https://localhost:8080/",
          "height": 423
        },
        "id": "wugK16MMplIm",
        "outputId": "ed80cf47-da8a-41b4-aa14-0ca235093374"
      },
      "source": [
        "plotValues.sort_values(ascending=True).plot.bar(color=[\"red\",\"blue\",\"green\",\"yellow\",\"pink\"])"
      ],
      "execution_count": 11,
      "outputs": [
        {
          "output_type": "execute_result",
          "data": {
            "text/plain": [
              "<matplotlib.axes._subplots.AxesSubplot at 0x7f4580a92290>"
            ]
          },
          "metadata": {},
          "execution_count": 11
        },
        {
          "output_type": "display_data",
          "data": {
            "image/png": "[encoded data removed]",
            "text/plain": [
              "<Figure size 432x288 with 1 Axes>"
            ]
          },
          "metadata": {
            "needs_background": "light"
          }
        }
      ]
    },
    {
      "cell_type": "markdown",
      "metadata": {
        "id": "ZN7Zfhs1vnBR"
      },
      "source": [
        "In this case we can see that **USB-C** charger has huge sales✈\\"
      ]
    },
    {
      "cell_type": "code",
      "metadata": {
        "colab": {
          "base_uri": "https://localhost:8080/",
          "height": 414
        },
        "id": "4_qizBWBvlwU",
        "outputId": "f78f1a92-8eb4-451e-d35c-f892d5125ad5"
      },
      "source": [
        "dataSet"
      ],
      "execution_count": 12,
      "outputs": [
        {
          "output_type": "execute_result",
          "data": {
            "text/html": [
              "<div>\n",
              "<style scoped>\n",
              "    .dataframe tbody tr th:only-of-type {\n",
              "        vertical-align: middle;\n",
              "    }\n",
              "\n",
              "    .dataframe tbody tr th {\n",
              "        vertical-align: top;\n",
              "    }\n",
              "\n",
              "    .dataframe thead th {\n",
              "        text-align: right;\n",
              "    }\n",
              "</style>\n",
              "<table border=\"1\" class=\"dataframe\">\n",
              "  <thead>\n",
              "    <tr style=\"text-align: right;\">\n",
              "      <th></th>\n",
              "      <th>Order ID</th>\n",
              "      <th>Product</th>\n",
              "      <th>Quantity Ordered</th>\n",
              "      <th>Price Each</th>\n",
              "      <th>Order Date</th>\n",
              "      <th>Purchase Address</th>\n",
              "    </tr>\n",
              "  </thead>\n",
              "  <tbody>\n",
              "    <tr>\n",
              "      <th>0</th>\n",
              "      <td>141234</td>\n",
              "      <td>iPhone</td>\n",
              "      <td>1</td>\n",
              "      <td>700</td>\n",
              "      <td>01/22/19 21:25</td>\n",
              "      <td>944 Walnut St, Boston, MA 02215</td>\n",
              "    </tr>\n",
              "    <tr>\n",
              "      <th>1</th>\n",
              "      <td>141235</td>\n",
              "      <td>Lightning Charging Cable</td>\n",
              "      <td>1</td>\n",
              "      <td>14.95</td>\n",
              "      <td>01/28/19 14:15</td>\n",
              "      <td>185 Maple St, Portland, OR 97035</td>\n",
              "    </tr>\n",
              "    <tr>\n",
              "      <th>2</th>\n",
              "      <td>141236</td>\n",
              "      <td>Wired Headphones</td>\n",
              "      <td>2</td>\n",
              "      <td>11.99</td>\n",
              "      <td>01/17/19 13:33</td>\n",
              "      <td>538 Adams St, San Francisco, CA 94016</td>\n",
              "    </tr>\n",
              "    <tr>\n",
              "      <th>3</th>\n",
              "      <td>141237</td>\n",
              "      <td>27in FHD Monitor</td>\n",
              "      <td>1</td>\n",
              "      <td>149.99</td>\n",
              "      <td>01/05/19 20:33</td>\n",
              "      <td>738 10th St, Los Angeles, CA 90001</td>\n",
              "    </tr>\n",
              "    <tr>\n",
              "      <th>4</th>\n",
              "      <td>141238</td>\n",
              "      <td>Wired Headphones</td>\n",
              "      <td>1</td>\n",
              "      <td>11.99</td>\n",
              "      <td>01/25/19 11:59</td>\n",
              "      <td>387 10th St, Austin, TX 73301</td>\n",
              "    </tr>\n",
              "    <tr>\n",
              "      <th>...</th>\n",
              "      <td>...</td>\n",
              "      <td>...</td>\n",
              "      <td>...</td>\n",
              "      <td>...</td>\n",
              "      <td>...</td>\n",
              "      <td>...</td>\n",
              "    </tr>\n",
              "    <tr>\n",
              "      <th>25112</th>\n",
              "      <td>319666</td>\n",
              "      <td>Lightning Charging Cable</td>\n",
              "      <td>1</td>\n",
              "      <td>14.95</td>\n",
              "      <td>12/11/19 20:58</td>\n",
              "      <td>14 Madison St, San Francisco, CA 94016</td>\n",
              "    </tr>\n",
              "    <tr>\n",
              "      <th>25113</th>\n",
              "      <td>319667</td>\n",
              "      <td>AA Batteries (4-pack)</td>\n",
              "      <td>2</td>\n",
              "      <td>3.84</td>\n",
              "      <td>12/01/19 12:01</td>\n",
              "      <td>549 Willow St, Los Angeles, CA 90001</td>\n",
              "    </tr>\n",
              "    <tr>\n",
              "      <th>25114</th>\n",
              "      <td>319668</td>\n",
              "      <td>Vareebadd Phone</td>\n",
              "      <td>1</td>\n",
              "      <td>400</td>\n",
              "      <td>12/09/19 06:43</td>\n",
              "      <td>273 Wilson St, Seattle, WA 98101</td>\n",
              "    </tr>\n",
              "    <tr>\n",
              "      <th>25115</th>\n",
              "      <td>319669</td>\n",
              "      <td>Wired Headphones</td>\n",
              "      <td>1</td>\n",
              "      <td>11.99</td>\n",
              "      <td>12/03/19 10:39</td>\n",
              "      <td>778 River St, Dallas, TX 75001</td>\n",
              "    </tr>\n",
              "    <tr>\n",
              "      <th>25116</th>\n",
              "      <td>319670</td>\n",
              "      <td>Bose SoundSport Headphones</td>\n",
              "      <td>1</td>\n",
              "      <td>99.99</td>\n",
              "      <td>12/21/19 21:45</td>\n",
              "      <td>747 Chestnut St, Los Angeles, CA 90001</td>\n",
              "    </tr>\n",
              "  </tbody>\n",
              "</table>\n",
              "<p>184907 rows × 6 columns</p>\n",
              "</div>"
            ],
            "text/plain": [
              "      Order ID  ...                        Purchase Address\n",
              "0       141234  ...         944 Walnut St, Boston, MA 02215\n",
              "1       141235  ...        185 Maple St, Portland, OR 97035\n",
              "2       141236  ...   538 Adams St, San Francisco, CA 94016\n",
              "3       141237  ...      738 10th St, Los Angeles, CA 90001\n",
              "4       141238  ...           387 10th St, Austin, TX 73301\n",
              "...        ...  ...                                     ...\n",
              "25112   319666  ...  14 Madison St, San Francisco, CA 94016\n",
              "25113   319667  ...    549 Willow St, Los Angeles, CA 90001\n",
              "25114   319668  ...        273 Wilson St, Seattle, WA 98101\n",
              "25115   319669  ...          778 River St, Dallas, TX 75001\n",
              "25116   319670  ...  747 Chestnut St, Los Angeles, CA 90001\n",
              "\n",
              "[184907 rows x 6 columns]"
            ]
          },
          "metadata": {},
          "execution_count": 12
        }
      ]
    },
    {
      "cell_type": "markdown",
      "metadata": {
        "id": "-Bf51aCkz1TU"
      },
      "source": [
        "**How Much amount of USB Type c Charger they sell**\n",
        "\n",
        "Steps:\n",
        "\n",
        "    ->Check the type of \"Product\" and change the data type which we want to analyse\n",
        "\n",
        "    ->In this case I've change this as String as  numeric"
      ]
    },
    {
      "cell_type": "code",
      "metadata": {
        "colab": {
          "base_uri": "https://localhost:8080/"
        },
        "id": "t-huYV4V00PZ",
        "outputId": "3d29997d-9a8b-4af3-9c78-f9ba63cc149b"
      },
      "source": [
        "dataSet[\"Price Each\"].dtype"
      ],
      "execution_count": 13,
      "outputs": [
        {
          "output_type": "execute_result",
          "data": {
            "text/plain": [
              "dtype('O')"
            ]
          },
          "metadata": {},
          "execution_count": 13
        }
      ]
    },
    {
      "cell_type": "code",
      "metadata": {
        "id": "8JMqRVNe38Dh"
      },
      "source": [
        "##Check any Non Numeric Values"
      ],
      "execution_count": 14,
      "outputs": []
    },
    {
      "cell_type": "code",
      "metadata": {
        "colab": {
          "base_uri": "https://localhost:8080/"
        },
        "id": "fIBFVlvL3TQh",
        "outputId": "6582678e-abad-4f04-c579-793dcf1c7c5f"
      },
      "source": [
        "dataSet[\"Price Each\"].value_counts()"
      ],
      "execution_count": 15,
      "outputs": [
        {
          "output_type": "execute_result",
          "data": {
            "text/plain": [
              "11.95         21789\n",
              "14.95         21481\n",
              "3.84          20431\n",
              "2.99          20392\n",
              "11.99         18664\n",
              "150           15418\n",
              "99.99         13343\n",
              "149.99         7427\n",
              "700            6705\n",
              "389.99         6167\n",
              "379.99         6161\n",
              "600            5477\n",
              "300            4741\n",
              "1700           4620\n",
              "999.99         4104\n",
              "109.99         4088\n",
              "400            2044\n",
              "600.0          1318\n",
              "Price Each      357\n",
              "150.0            95\n",
              "700.0            35\n",
              "1700.0           22\n",
              "300.0            19\n",
              "400.0             9\n",
              "Name: Price Each, dtype: int64"
            ]
          },
          "metadata": {},
          "execution_count": 15
        }
      ]
    },
    {
      "cell_type": "markdown",
      "metadata": {
        "id": "nubQIVF74EeT"
      },
      "source": [
        "I found that There is 357 columns contains values as **Price Each**"
      ]
    },
    {
      "cell_type": "code",
      "metadata": {
        "colab": {
          "base_uri": "https://localhost:8080/",
          "height": 414
        },
        "id": "zroTWOUR4Dwj",
        "outputId": "75eb24f5-e11e-4f30-a911-cd1f26a8924a"
      },
      "source": [
        "#Check which products contains price value as Price Value\n",
        "dataSet[dataSet[\"Price Each\"]==\"Price Each\"]"
      ],
      "execution_count": 16,
      "outputs": [
        {
          "output_type": "execute_result",
          "data": {
            "text/html": [
              "<div>\n",
              "<style scoped>\n",
              "    .dataframe tbody tr th:only-of-type {\n",
              "        vertical-align: middle;\n",
              "    }\n",
              "\n",
              "    .dataframe tbody tr th {\n",
              "        vertical-align: top;\n",
              "    }\n",
              "\n",
              "    .dataframe thead th {\n",
              "        text-align: right;\n",
              "    }\n",
              "</style>\n",
              "<table border=\"1\" class=\"dataframe\">\n",
              "  <thead>\n",
              "    <tr style=\"text-align: right;\">\n",
              "      <th></th>\n",
              "      <th>Order ID</th>\n",
              "      <th>Product</th>\n",
              "      <th>Quantity Ordered</th>\n",
              "      <th>Price Each</th>\n",
              "      <th>Order Date</th>\n",
              "      <th>Purchase Address</th>\n",
              "    </tr>\n",
              "  </thead>\n",
              "  <tbody>\n",
              "    <tr>\n",
              "      <th>1073</th>\n",
              "      <td>Order ID</td>\n",
              "      <td>Product</td>\n",
              "      <td>Quantity Ordered</td>\n",
              "      <td>Price Each</td>\n",
              "      <td>Order Date</td>\n",
              "      <td>Purchase Address</td>\n",
              "    </tr>\n",
              "    <tr>\n",
              "      <th>1102</th>\n",
              "      <td>Order ID</td>\n",
              "      <td>Product</td>\n",
              "      <td>Quantity Ordered</td>\n",
              "      <td>Price Each</td>\n",
              "      <td>Order Date</td>\n",
              "      <td>Purchase Address</td>\n",
              "    </tr>\n",
              "    <tr>\n",
              "      <th>1194</th>\n",
              "      <td>Order ID</td>\n",
              "      <td>Product</td>\n",
              "      <td>Quantity Ordered</td>\n",
              "      <td>Price Each</td>\n",
              "      <td>Order Date</td>\n",
              "      <td>Purchase Address</td>\n",
              "    </tr>\n",
              "    <tr>\n",
              "      <th>1897</th>\n",
              "      <td>Order ID</td>\n",
              "      <td>Product</td>\n",
              "      <td>Quantity Ordered</td>\n",
              "      <td>Price Each</td>\n",
              "      <td>Order Date</td>\n",
              "      <td>Purchase Address</td>\n",
              "    </tr>\n",
              "    <tr>\n",
              "      <th>2463</th>\n",
              "      <td>Order ID</td>\n",
              "      <td>Product</td>\n",
              "      <td>Quantity Ordered</td>\n",
              "      <td>Price Each</td>\n",
              "      <td>Order Date</td>\n",
              "      <td>Purchase Address</td>\n",
              "    </tr>\n",
              "    <tr>\n",
              "      <th>...</th>\n",
              "      <td>...</td>\n",
              "      <td>...</td>\n",
              "      <td>...</td>\n",
              "      <td>...</td>\n",
              "      <td>...</td>\n",
              "      <td>...</td>\n",
              "    </tr>\n",
              "    <tr>\n",
              "      <th>23198</th>\n",
              "      <td>Order ID</td>\n",
              "      <td>Product</td>\n",
              "      <td>Quantity Ordered</td>\n",
              "      <td>Price Each</td>\n",
              "      <td>Order Date</td>\n",
              "      <td>Purchase Address</td>\n",
              "    </tr>\n",
              "    <tr>\n",
              "      <th>23337</th>\n",
              "      <td>Order ID</td>\n",
              "      <td>Product</td>\n",
              "      <td>Quantity Ordered</td>\n",
              "      <td>Price Each</td>\n",
              "      <td>Order Date</td>\n",
              "      <td>Purchase Address</td>\n",
              "    </tr>\n",
              "    <tr>\n",
              "      <th>23748</th>\n",
              "      <td>Order ID</td>\n",
              "      <td>Product</td>\n",
              "      <td>Quantity Ordered</td>\n",
              "      <td>Price Each</td>\n",
              "      <td>Order Date</td>\n",
              "      <td>Purchase Address</td>\n",
              "    </tr>\n",
              "    <tr>\n",
              "      <th>24192</th>\n",
              "      <td>Order ID</td>\n",
              "      <td>Product</td>\n",
              "      <td>Quantity Ordered</td>\n",
              "      <td>Price Each</td>\n",
              "      <td>Order Date</td>\n",
              "      <td>Purchase Address</td>\n",
              "    </tr>\n",
              "    <tr>\n",
              "      <th>24222</th>\n",
              "      <td>Order ID</td>\n",
              "      <td>Product</td>\n",
              "      <td>Quantity Ordered</td>\n",
              "      <td>Price Each</td>\n",
              "      <td>Order Date</td>\n",
              "      <td>Purchase Address</td>\n",
              "    </tr>\n",
              "  </tbody>\n",
              "</table>\n",
              "<p>357 rows × 6 columns</p>\n",
              "</div>"
            ],
            "text/plain": [
              "       Order ID  Product  ...  Order Date  Purchase Address\n",
              "1073   Order ID  Product  ...  Order Date  Purchase Address\n",
              "1102   Order ID  Product  ...  Order Date  Purchase Address\n",
              "1194   Order ID  Product  ...  Order Date  Purchase Address\n",
              "1897   Order ID  Product  ...  Order Date  Purchase Address\n",
              "2463   Order ID  Product  ...  Order Date  Purchase Address\n",
              "...         ...      ...  ...         ...               ...\n",
              "23198  Order ID  Product  ...  Order Date  Purchase Address\n",
              "23337  Order ID  Product  ...  Order Date  Purchase Address\n",
              "23748  Order ID  Product  ...  Order Date  Purchase Address\n",
              "24192  Order ID  Product  ...  Order Date  Purchase Address\n",
              "24222  Order ID  Product  ...  Order Date  Purchase Address\n",
              "\n",
              "[357 rows x 6 columns]"
            ]
          },
          "metadata": {},
          "execution_count": 16
        }
      ]
    },
    {
      "cell_type": "markdown",
      "metadata": {
        "id": "6hKhq0mv5PWi"
      },
      "source": [
        "**I found there is more than 357 rows contains no values in specic columns they contai on as column names as values\n",
        "In this case there is no use of these specific rows**\n",
        "\n",
        "So I drop those rows in this case"
      ]
    },
    {
      "cell_type": "code",
      "metadata": {
        "id": "Nh-pSBfZ4o4T"
      },
      "source": [
        "#New Dataset after droping above rows\n",
        "newData=dataSet[~(dataSet[\"Order ID\"]==\"Order ID\")]"
      ],
      "execution_count": 17,
      "outputs": []
    },
    {
      "cell_type": "code",
      "metadata": {
        "colab": {
          "base_uri": "https://localhost:8080/",
          "height": 414
        },
        "id": "ZegnjJuS3v6h",
        "outputId": "d3268f60-85ab-413d-a037-74c4c8bfd25b"
      },
      "source": [
        "newData"
      ],
      "execution_count": 18,
      "outputs": [
        {
          "output_type": "execute_result",
          "data": {
            "text/html": [
              "<div>\n",
              "<style scoped>\n",
              "    .dataframe tbody tr th:only-of-type {\n",
              "        vertical-align: middle;\n",
              "    }\n",
              "\n",
              "    .dataframe tbody tr th {\n",
              "        vertical-align: top;\n",
              "    }\n",
              "\n",
              "    .dataframe thead th {\n",
              "        text-align: right;\n",
              "    }\n",
              "</style>\n",
              "<table border=\"1\" class=\"dataframe\">\n",
              "  <thead>\n",
              "    <tr style=\"text-align: right;\">\n",
              "      <th></th>\n",
              "      <th>Order ID</th>\n",
              "      <th>Product</th>\n",
              "      <th>Quantity Ordered</th>\n",
              "      <th>Price Each</th>\n",
              "      <th>Order Date</th>\n",
              "      <th>Purchase Address</th>\n",
              "    </tr>\n",
              "  </thead>\n",
              "  <tbody>\n",
              "    <tr>\n",
              "      <th>0</th>\n",
              "      <td>141234</td>\n",
              "      <td>iPhone</td>\n",
              "      <td>1</td>\n",
              "      <td>700</td>\n",
              "      <td>01/22/19 21:25</td>\n",
              "      <td>944 Walnut St, Boston, MA 02215</td>\n",
              "    </tr>\n",
              "    <tr>\n",
              "      <th>1</th>\n",
              "      <td>141235</td>\n",
              "      <td>Lightning Charging Cable</td>\n",
              "      <td>1</td>\n",
              "      <td>14.95</td>\n",
              "      <td>01/28/19 14:15</td>\n",
              "      <td>185 Maple St, Portland, OR 97035</td>\n",
              "    </tr>\n",
              "    <tr>\n",
              "      <th>2</th>\n",
              "      <td>141236</td>\n",
              "      <td>Wired Headphones</td>\n",
              "      <td>2</td>\n",
              "      <td>11.99</td>\n",
              "      <td>01/17/19 13:33</td>\n",
              "      <td>538 Adams St, San Francisco, CA 94016</td>\n",
              "    </tr>\n",
              "    <tr>\n",
              "      <th>3</th>\n",
              "      <td>141237</td>\n",
              "      <td>27in FHD Monitor</td>\n",
              "      <td>1</td>\n",
              "      <td>149.99</td>\n",
              "      <td>01/05/19 20:33</td>\n",
              "      <td>738 10th St, Los Angeles, CA 90001</td>\n",
              "    </tr>\n",
              "    <tr>\n",
              "      <th>4</th>\n",
              "      <td>141238</td>\n",
              "      <td>Wired Headphones</td>\n",
              "      <td>1</td>\n",
              "      <td>11.99</td>\n",
              "      <td>01/25/19 11:59</td>\n",
              "      <td>387 10th St, Austin, TX 73301</td>\n",
              "    </tr>\n",
              "    <tr>\n",
              "      <th>...</th>\n",
              "      <td>...</td>\n",
              "      <td>...</td>\n",
              "      <td>...</td>\n",
              "      <td>...</td>\n",
              "      <td>...</td>\n",
              "      <td>...</td>\n",
              "    </tr>\n",
              "    <tr>\n",
              "      <th>25112</th>\n",
              "      <td>319666</td>\n",
              "      <td>Lightning Charging Cable</td>\n",
              "      <td>1</td>\n",
              "      <td>14.95</td>\n",
              "      <td>12/11/19 20:58</td>\n",
              "      <td>14 Madison St, San Francisco, CA 94016</td>\n",
              "    </tr>\n",
              "    <tr>\n",
              "      <th>25113</th>\n",
              "      <td>319667</td>\n",
              "      <td>AA Batteries (4-pack)</td>\n",
              "      <td>2</td>\n",
              "      <td>3.84</td>\n",
              "      <td>12/01/19 12:01</td>\n",
              "      <td>549 Willow St, Los Angeles, CA 90001</td>\n",
              "    </tr>\n",
              "    <tr>\n",
              "      <th>25114</th>\n",
              "      <td>319668</td>\n",
              "      <td>Vareebadd Phone</td>\n",
              "      <td>1</td>\n",
              "      <td>400</td>\n",
              "      <td>12/09/19 06:43</td>\n",
              "      <td>273 Wilson St, Seattle, WA 98101</td>\n",
              "    </tr>\n",
              "    <tr>\n",
              "      <th>25115</th>\n",
              "      <td>319669</td>\n",
              "      <td>Wired Headphones</td>\n",
              "      <td>1</td>\n",
              "      <td>11.99</td>\n",
              "      <td>12/03/19 10:39</td>\n",
              "      <td>778 River St, Dallas, TX 75001</td>\n",
              "    </tr>\n",
              "    <tr>\n",
              "      <th>25116</th>\n",
              "      <td>319670</td>\n",
              "      <td>Bose SoundSport Headphones</td>\n",
              "      <td>1</td>\n",
              "      <td>99.99</td>\n",
              "      <td>12/21/19 21:45</td>\n",
              "      <td>747 Chestnut St, Los Angeles, CA 90001</td>\n",
              "    </tr>\n",
              "  </tbody>\n",
              "</table>\n",
              "<p>184550 rows × 6 columns</p>\n",
              "</div>"
            ],
            "text/plain": [
              "      Order ID  ...                        Purchase Address\n",
              "0       141234  ...         944 Walnut St, Boston, MA 02215\n",
              "1       141235  ...        185 Maple St, Portland, OR 97035\n",
              "2       141236  ...   538 Adams St, San Francisco, CA 94016\n",
              "3       141237  ...      738 10th St, Los Angeles, CA 90001\n",
              "4       141238  ...           387 10th St, Austin, TX 73301\n",
              "...        ...  ...                                     ...\n",
              "25112   319666  ...  14 Madison St, San Francisco, CA 94016\n",
              "25113   319667  ...    549 Willow St, Los Angeles, CA 90001\n",
              "25114   319668  ...        273 Wilson St, Seattle, WA 98101\n",
              "25115   319669  ...          778 River St, Dallas, TX 75001\n",
              "25116   319670  ...  747 Chestnut St, Los Angeles, CA 90001\n",
              "\n",
              "[184550 rows x 6 columns]"
            ]
          },
          "metadata": {},
          "execution_count": 18
        }
      ]
    },
    {
      "cell_type": "code",
      "metadata": {
        "colab": {
          "base_uri": "https://localhost:8080/"
        },
        "id": "B3JePXnW588S",
        "outputId": "e51fa793-ffaa-4a0c-d528-7fa47753527c"
      },
      "source": [
        "#Now check the values in Price Each Columns\n",
        "newData[\"Price Each\"].value_counts()"
      ],
      "execution_count": 19,
      "outputs": [
        {
          "output_type": "execute_result",
          "data": {
            "text/plain": [
              "11.95     21789\n",
              "14.95     21481\n",
              "3.84      20431\n",
              "2.99      20392\n",
              "11.99     18664\n",
              "150       15418\n",
              "99.99     13343\n",
              "149.99     7427\n",
              "700        6705\n",
              "389.99     6167\n",
              "379.99     6161\n",
              "600        5477\n",
              "300        4741\n",
              "1700       4620\n",
              "999.99     4104\n",
              "109.99     4088\n",
              "400        2044\n",
              "600.0      1318\n",
              "150.0        95\n",
              "700.0        35\n",
              "1700.0       22\n",
              "300.0        19\n",
              "400.0         9\n",
              "Name: Price Each, dtype: int64"
            ]
          },
          "metadata": {},
          "execution_count": 19
        }
      ]
    },
    {
      "cell_type": "code",
      "metadata": {
        "colab": {
          "base_uri": "https://localhost:8080/"
        },
        "id": "e2uddwct6KR1",
        "outputId": "bd8a0576-e5a5-4de4-f7e1-982fe841947a"
      },
      "source": [
        "#Change Data Type\n",
        "newData[\"Price Each\"]=newData[\"Price Each\"].astype(np.float)"
      ],
      "execution_count": 20,
      "outputs": [
        {
          "output_type": "stream",
          "name": "stderr",
          "text": [
            "/usr/local/lib/python3.7/dist-packages/ipykernel_launcher.py:2: SettingWithCopyWarning: \n",
            "A value is trying to be set on a copy of a slice from a DataFrame.\n",
            "Try using .loc[row_indexer,col_indexer] = value instead\n",
            "\n",
            "See the caveats in the documentation: https://pandas.pydata.org/pandas-docs/stable/user_guide/indexing.html#returning-a-view-versus-a-copy\n",
            "  \n"
          ]
        }
      ]
    },
    {
      "cell_type": "code",
      "metadata": {
        "colab": {
          "base_uri": "https://localhost:8080/"
        },
        "id": "4JtZlANq7aw4",
        "outputId": "fa3cfd5c-daa6-4e38-8358-667576933446"
      },
      "source": [
        "#Again check Data Type\n",
        "newData[\"Price Each\"].dtype"
      ],
      "execution_count": 21,
      "outputs": [
        {
          "output_type": "execute_result",
          "data": {
            "text/plain": [
              "dtype('float64')"
            ]
          },
          "metadata": {},
          "execution_count": 21
        }
      ]
    },
    {
      "cell_type": "code",
      "metadata": {
        "colab": {
          "base_uri": "https://localhost:8080/"
        },
        "id": "hNnDfATE24cH",
        "outputId": "27dc149b-0aeb-4111-e74b-c1e98bda0635"
      },
      "source": [
        "\n",
        "newData[newData[\"Product\"]==\"USB-C Charging Cable\"][\"Price Each\"].value_counts()"
      ],
      "execution_count": 22,
      "outputs": [
        {
          "output_type": "execute_result",
          "data": {
            "text/plain": [
              "11.95    21789\n",
              "Name: Price Each, dtype: int64"
            ]
          },
          "metadata": {},
          "execution_count": 22
        }
      ]
    },
    {
      "cell_type": "code",
      "metadata": {
        "id": "QiIzXTLRz0bq"
      },
      "source": [
        "USBType_C=newData[newData[\"Product\"]==\"USB-C Charging Cable\"]"
      ],
      "execution_count": 23,
      "outputs": []
    },
    {
      "cell_type": "code",
      "metadata": {
        "id": "qUgJNJ5q0kiA"
      },
      "source": [
        "usbSales=USBType_C[\"Price Each\"].sum()"
      ],
      "execution_count": 24,
      "outputs": []
    },
    {
      "cell_type": "code",
      "metadata": {
        "colab": {
          "base_uri": "https://localhost:8080/"
        },
        "id": "zJCmXN-bveF3",
        "outputId": "418a7a60-fefa-4666-e22a-78381b9df4ec"
      },
      "source": [
        "#Percentage of USB Type c in total amount of sales\n",
        "totalSales=newData[\"Price Each\"].sum()\n",
        "(usbSales/totalSales)*100"
      ],
      "execution_count": 25,
      "outputs": [
        {
          "output_type": "execute_result",
          "data": {
            "text/plain": [
              "0.7668295608479949"
            ]
          },
          "metadata": {},
          "execution_count": 25
        }
      ]
    },
    {
      "cell_type": "markdown",
      "metadata": {
        "id": "y-mKX0wv-NSA"
      },
      "source": [
        "**I found the revenue of USB sale in total sales is Only 0.7 Percentage**\n",
        "\n",
        "*This One is not well*"
      ]
    },
    {
      "cell_type": "markdown",
      "metadata": {
        "id": "UHYp4q0jTi2s"
      },
      "source": [
        "**Create New Derived Matrics using Quantity Ordered and Price Each**\n",
        "\n",
        "Steps✈\n",
        "\n",
        "    ->Change The Data Type of Ordered Column\n",
        "    \n",
        "    ->Apply multiplication of Price Each Column and Quantity Ordered\n",
        "\n",
        "In the name Total Amount Of sales"
      ]
    },
    {
      "cell_type": "code",
      "metadata": {
        "colab": {
          "base_uri": "https://localhost:8080/"
        },
        "id": "gr8LxGTCTgYY",
        "outputId": "42844f24-1309-4e45-a375-5e6626024a40"
      },
      "source": [
        "#Check the data type of columns\n",
        "newData[\"Quantity Ordered\"].dtype"
      ],
      "execution_count": 26,
      "outputs": [
        {
          "output_type": "execute_result",
          "data": {
            "text/plain": [
              "dtype('O')"
            ]
          },
          "metadata": {},
          "execution_count": 26
        }
      ]
    },
    {
      "cell_type": "code",
      "metadata": {
        "colab": {
          "base_uri": "https://localhost:8080/"
        },
        "id": "sPFTgokKV3FZ",
        "outputId": "e24d1d3d-dea5-41c7-c5f7-7a28575b909c"
      },
      "source": [
        "#Change the data Type\n",
        "newData[\"Quantity Ordered\"]=newData[\"Quantity Ordered\"].astype(np.int)"
      ],
      "execution_count": 27,
      "outputs": [
        {
          "output_type": "stream",
          "name": "stderr",
          "text": [
            "/usr/local/lib/python3.7/dist-packages/ipykernel_launcher.py:2: SettingWithCopyWarning: \n",
            "A value is trying to be set on a copy of a slice from a DataFrame.\n",
            "Try using .loc[row_indexer,col_indexer] = value instead\n",
            "\n",
            "See the caveats in the documentation: https://pandas.pydata.org/pandas-docs/stable/user_guide/indexing.html#returning-a-view-versus-a-copy\n",
            "  \n"
          ]
        }
      ]
    },
    {
      "cell_type": "code",
      "metadata": {
        "colab": {
          "base_uri": "https://localhost:8080/"
        },
        "id": "OXNGvtdFWMWI",
        "outputId": "0ed065ba-6c9d-4f16-95a1-02050fe5f042"
      },
      "source": [
        "#Again check the Type of column\n",
        "newData[\"Quantity Ordered\"].dtype"
      ],
      "execution_count": 28,
      "outputs": [
        {
          "output_type": "execute_result",
          "data": {
            "text/plain": [
              "dtype('int64')"
            ]
          },
          "metadata": {},
          "execution_count": 28
        }
      ]
    },
    {
      "cell_type": "code",
      "metadata": {
        "id": "cf2_L6QpWT1Q"
      },
      "source": [
        "Total_Amount=newData[\"Quantity Ordered\"]*newData[\"Price Each\"]"
      ],
      "execution_count": 29,
      "outputs": []
    },
    {
      "cell_type": "code",
      "metadata": {
        "colab": {
          "base_uri": "https://localhost:8080/"
        },
        "id": "oW4IxdXYWcMy",
        "outputId": "9830dfb3-c262-4dc8-be2b-f7773b1f6ae9"
      },
      "source": [
        "newData[\"Amount Of Sales\"]=Total_Amount"
      ],
      "execution_count": 30,
      "outputs": [
        {
          "output_type": "stream",
          "name": "stderr",
          "text": [
            "/usr/local/lib/python3.7/dist-packages/ipykernel_launcher.py:1: SettingWithCopyWarning: \n",
            "A value is trying to be set on a copy of a slice from a DataFrame.\n",
            "Try using .loc[row_indexer,col_indexer] = value instead\n",
            "\n",
            "See the caveats in the documentation: https://pandas.pydata.org/pandas-docs/stable/user_guide/indexing.html#returning-a-view-versus-a-copy\n",
            "  \"\"\"Entry point for launching an IPython kernel.\n"
          ]
        }
      ]
    },
    {
      "cell_type": "code",
      "metadata": {
        "colab": {
          "base_uri": "https://localhost:8080/",
          "height": 202
        },
        "id": "8Z-170QWYLNG",
        "outputId": "81e3a716-d3e8-4860-9296-24cb97f19027"
      },
      "source": [
        "newData.head()"
      ],
      "execution_count": 31,
      "outputs": [
        {
          "output_type": "execute_result",
          "data": {
            "text/html": [
              "<div>\n",
              "<style scoped>\n",
              "    .dataframe tbody tr th:only-of-type {\n",
              "        vertical-align: middle;\n",
              "    }\n",
              "\n",
              "    .dataframe tbody tr th {\n",
              "        vertical-align: top;\n",
              "    }\n",
              "\n",
              "    .dataframe thead th {\n",
              "        text-align: right;\n",
              "    }\n",
              "</style>\n",
              "<table border=\"1\" class=\"dataframe\">\n",
              "  <thead>\n",
              "    <tr style=\"text-align: right;\">\n",
              "      <th></th>\n",
              "      <th>Order ID</th>\n",
              "      <th>Product</th>\n",
              "      <th>Quantity Ordered</th>\n",
              "      <th>Price Each</th>\n",
              "      <th>Order Date</th>\n",
              "      <th>Purchase Address</th>\n",
              "      <th>Amount Of Sales</th>\n",
              "    </tr>\n",
              "  </thead>\n",
              "  <tbody>\n",
              "    <tr>\n",
              "      <th>0</th>\n",
              "      <td>141234</td>\n",
              "      <td>iPhone</td>\n",
              "      <td>1</td>\n",
              "      <td>700.00</td>\n",
              "      <td>01/22/19 21:25</td>\n",
              "      <td>944 Walnut St, Boston, MA 02215</td>\n",
              "      <td>700.00</td>\n",
              "    </tr>\n",
              "    <tr>\n",
              "      <th>1</th>\n",
              "      <td>141235</td>\n",
              "      <td>Lightning Charging Cable</td>\n",
              "      <td>1</td>\n",
              "      <td>14.95</td>\n",
              "      <td>01/28/19 14:15</td>\n",
              "      <td>185 Maple St, Portland, OR 97035</td>\n",
              "      <td>14.95</td>\n",
              "    </tr>\n",
              "    <tr>\n",
              "      <th>2</th>\n",
              "      <td>141236</td>\n",
              "      <td>Wired Headphones</td>\n",
              "      <td>2</td>\n",
              "      <td>11.99</td>\n",
              "      <td>01/17/19 13:33</td>\n",
              "      <td>538 Adams St, San Francisco, CA 94016</td>\n",
              "      <td>23.98</td>\n",
              "    </tr>\n",
              "    <tr>\n",
              "      <th>3</th>\n",
              "      <td>141237</td>\n",
              "      <td>27in FHD Monitor</td>\n",
              "      <td>1</td>\n",
              "      <td>149.99</td>\n",
              "      <td>01/05/19 20:33</td>\n",
              "      <td>738 10th St, Los Angeles, CA 90001</td>\n",
              "      <td>149.99</td>\n",
              "    </tr>\n",
              "    <tr>\n",
              "      <th>4</th>\n",
              "      <td>141238</td>\n",
              "      <td>Wired Headphones</td>\n",
              "      <td>1</td>\n",
              "      <td>11.99</td>\n",
              "      <td>01/25/19 11:59</td>\n",
              "      <td>387 10th St, Austin, TX 73301</td>\n",
              "      <td>11.99</td>\n",
              "    </tr>\n",
              "  </tbody>\n",
              "</table>\n",
              "</div>"
            ],
            "text/plain": [
              "  Order ID  ... Amount Of Sales\n",
              "0   141234  ...          700.00\n",
              "1   141235  ...           14.95\n",
              "2   141236  ...           23.98\n",
              "3   141237  ...          149.99\n",
              "4   141238  ...           11.99\n",
              "\n",
              "[5 rows x 7 columns]"
            ]
          },
          "metadata": {},
          "execution_count": 31
        }
      ]
    },
    {
      "cell_type": "code",
      "metadata": {
        "id": "nnpataIV-MbX"
      },
      "source": [
        "\n",
        "totalSalesOfAllProduct=newData.pivot_table(index=\"Product\",values=\"Amount Of Sales\",aggfunc=np.sum)"
      ],
      "execution_count": 32,
      "outputs": []
    },
    {
      "cell_type": "code",
      "metadata": {
        "id": "RU0y_9HgZE-1"
      },
      "source": [
        ""
      ],
      "execution_count": 32,
      "outputs": []
    },
    {
      "cell_type": "code",
      "metadata": {
        "colab": {
          "base_uri": "https://localhost:8080/",
          "height": 662
        },
        "id": "GJ6J6j5C-Lj7",
        "outputId": "14098564-c6a7-49a8-e604-3d10172d25b9"
      },
      "source": [
        "#Check which product has huge sales amount wise\n",
        "totalSalesOfAllProduct"
      ],
      "execution_count": 33,
      "outputs": [
        {
          "output_type": "execute_result",
          "data": {
            "text/html": [
              "<div>\n",
              "<style scoped>\n",
              "    .dataframe tbody tr th:only-of-type {\n",
              "        vertical-align: middle;\n",
              "    }\n",
              "\n",
              "    .dataframe tbody tr th {\n",
              "        vertical-align: top;\n",
              "    }\n",
              "\n",
              "    .dataframe thead th {\n",
              "        text-align: right;\n",
              "    }\n",
              "</style>\n",
              "<table border=\"1\" class=\"dataframe\">\n",
              "  <thead>\n",
              "    <tr style=\"text-align: right;\">\n",
              "      <th></th>\n",
              "      <th>Amount Of Sales</th>\n",
              "    </tr>\n",
              "    <tr>\n",
              "      <th>Product</th>\n",
              "      <th></th>\n",
              "    </tr>\n",
              "  </thead>\n",
              "  <tbody>\n",
              "    <tr>\n",
              "      <th>20in Monitor</th>\n",
              "      <td>452608.85</td>\n",
              "    </tr>\n",
              "    <tr>\n",
              "      <th>27in 4K Gaming Monitor</th>\n",
              "      <td>2410528.19</td>\n",
              "    </tr>\n",
              "    <tr>\n",
              "      <th>27in FHD Monitor</th>\n",
              "      <td>1120575.29</td>\n",
              "    </tr>\n",
              "    <tr>\n",
              "      <th>34in Ultrawide Monitor</th>\n",
              "      <td>2347958.21</td>\n",
              "    </tr>\n",
              "    <tr>\n",
              "      <th>AA Batteries (4-pack)</th>\n",
              "      <td>105477.12</td>\n",
              "    </tr>\n",
              "    <tr>\n",
              "      <th>AAA Batteries (4-pack)</th>\n",
              "      <td>91386.36</td>\n",
              "    </tr>\n",
              "    <tr>\n",
              "      <th>Apple Airpods Headphones</th>\n",
              "      <td>2343450.00</td>\n",
              "    </tr>\n",
              "    <tr>\n",
              "      <th>Bose SoundSport Headphones</th>\n",
              "      <td>1347865.20</td>\n",
              "    </tr>\n",
              "    <tr>\n",
              "      <th>Flatscreen TV</th>\n",
              "      <td>1434600.00</td>\n",
              "    </tr>\n",
              "    <tr>\n",
              "      <th>Google Phone</th>\n",
              "      <td>3309000.00</td>\n",
              "    </tr>\n",
              "    <tr>\n",
              "      <th>LG Dryer</th>\n",
              "      <td>372000.00</td>\n",
              "    </tr>\n",
              "    <tr>\n",
              "      <th>LG Washing Machine</th>\n",
              "      <td>399600.00</td>\n",
              "    </tr>\n",
              "    <tr>\n",
              "      <th>Lightning Charging Cable</th>\n",
              "      <td>344074.25</td>\n",
              "    </tr>\n",
              "    <tr>\n",
              "      <th>Macbook Pro Laptop</th>\n",
              "      <td>7896500.00</td>\n",
              "    </tr>\n",
              "    <tr>\n",
              "      <th>ThinkPad Laptop</th>\n",
              "      <td>4105958.94</td>\n",
              "    </tr>\n",
              "    <tr>\n",
              "      <th>USB-C Charging Cable</th>\n",
              "      <td>285007.50</td>\n",
              "    </tr>\n",
              "    <tr>\n",
              "      <th>Vareebadd Phone</th>\n",
              "      <td>822400.00</td>\n",
              "    </tr>\n",
              "    <tr>\n",
              "      <th>Wired Headphones</th>\n",
              "      <td>243924.56</td>\n",
              "    </tr>\n",
              "    <tr>\n",
              "      <th>iPhone</th>\n",
              "      <td>4723600.00</td>\n",
              "    </tr>\n",
              "  </tbody>\n",
              "</table>\n",
              "</div>"
            ],
            "text/plain": [
              "                            Amount Of Sales\n",
              "Product                                    \n",
              "20in Monitor                      452608.85\n",
              "27in 4K Gaming Monitor           2410528.19\n",
              "27in FHD Monitor                 1120575.29\n",
              "34in Ultrawide Monitor           2347958.21\n",
              "AA Batteries (4-pack)             105477.12\n",
              "AAA Batteries (4-pack)             91386.36\n",
              "Apple Airpods Headphones         2343450.00\n",
              "Bose SoundSport Headphones       1347865.20\n",
              "Flatscreen TV                    1434600.00\n",
              "Google Phone                     3309000.00\n",
              "LG Dryer                          372000.00\n",
              "LG Washing Machine                399600.00\n",
              "Lightning Charging Cable          344074.25\n",
              "Macbook Pro Laptop               7896500.00\n",
              "ThinkPad Laptop                  4105958.94\n",
              "USB-C Charging Cable              285007.50\n",
              "Vareebadd Phone                   822400.00\n",
              "Wired Headphones                  243924.56\n",
              "iPhone                           4723600.00"
            ]
          },
          "metadata": {},
          "execution_count": 33
        }
      ]
    },
    {
      "cell_type": "code",
      "metadata": {
        "colab": {
          "base_uri": "https://localhost:8080/",
          "height": 805
        },
        "id": "fEszXZpQzitE",
        "outputId": "c13d3ef4-c100-47c7-9285-8400ef4c615d"
      },
      "source": [
        "plt.figure(figsize=(10,10))\n",
        "sb.barplot(totalSalesOfAllProduct.index,totalSalesOfAllProduct[\"Amount Of Sales\"])\n",
        "#plt.xticks(rotation=90,fon \"Green\")\n",
        "ticks = np.arange(0, 10000000,1000000)\n",
        "labels = [\"{}M\".format(i//1000000) for i in ticks]\n",
        "plt.yticks(ticks, labels)\n",
        "plt.xticks(rotation=90)\n",
        "plt.show()"
      ],
      "execution_count": 34,
      "outputs": [
        {
          "output_type": "stream",
          "name": "stderr",
          "text": [
            "/usr/local/lib/python3.7/dist-packages/seaborn/_decorators.py:43: FutureWarning: Pass the following variables as keyword args: x, y. From version 0.12, the only valid positional argument will be `data`, and passing other arguments without an explicit keyword will result in an error or misinterpretation.\n",
            "  FutureWarning\n"
          ]
        },
        {
          "output_type": "display_data",
          "data": {
            "image/png": "[encoded data removed]",
            "text/plain": [
              "<Figure size 720x720 with 1 Axes>"
            ]
          },
          "metadata": {
            "needs_background": "light"
          }
        }
      ]
    },
    {
      "cell_type": "markdown",
      "metadata": {
        "id": "-wOieqKwpAp-"
      },
      "source": [
        "####I Found that the Sales of Macbook is higher than any other product as Amount Wise"
      ]
    },
    {
      "cell_type": "markdown",
      "metadata": {
        "id": "PBuK4wYOo0QR"
      },
      "source": [
        "**Know What is the Percentage of sales of MacBook**"
      ]
    },
    {
      "cell_type": "code",
      "metadata": {
        "colab": {
          "base_uri": "https://localhost:8080/"
        },
        "id": "FcF6HJOMozfP",
        "outputId": "3359004d-117e-4d3d-c884-9666263b76a8"
      },
      "source": [
        "totalSales"
      ],
      "execution_count": 35,
      "outputs": [
        {
          "output_type": "execute_result",
          "data": {
            "text/plain": [
              "33955205.07999999"
            ]
          },
          "metadata": {},
          "execution_count": 35
        }
      ]
    },
    {
      "cell_type": "code",
      "metadata": {
        "id": "luSQ2MJNbgtv"
      },
      "source": [
        "macSales=totalSalesOfAllProduct.index==\"Macbook Pro Laptop\""
      ],
      "execution_count": 36,
      "outputs": []
    },
    {
      "cell_type": "code",
      "metadata": {
        "colab": {
          "base_uri": "https://localhost:8080/",
          "height": 0
        },
        "id": "_srK98iMr3Qf",
        "outputId": "61e52d26-3e45-4b91-eb4b-00d33b2b67ea"
      },
      "source": [
        "(totalSalesOfAllProduct[macSales]/totalSales)*100"
      ],
      "execution_count": 37,
      "outputs": [
        {
          "output_type": "execute_result",
          "data": {
            "text/html": [
              "<div>\n",
              "<style scoped>\n",
              "    .dataframe tbody tr th:only-of-type {\n",
              "        vertical-align: middle;\n",
              "    }\n",
              "\n",
              "    .dataframe tbody tr th {\n",
              "        vertical-align: top;\n",
              "    }\n",
              "\n",
              "    .dataframe thead th {\n",
              "        text-align: right;\n",
              "    }\n",
              "</style>\n",
              "<table border=\"1\" class=\"dataframe\">\n",
              "  <thead>\n",
              "    <tr style=\"text-align: right;\">\n",
              "      <th></th>\n",
              "      <th>Amount Of Sales</th>\n",
              "    </tr>\n",
              "    <tr>\n",
              "      <th>Product</th>\n",
              "      <th></th>\n",
              "    </tr>\n",
              "  </thead>\n",
              "  <tbody>\n",
              "    <tr>\n",
              "      <th>Macbook Pro Laptop</th>\n",
              "      <td>23.255639</td>\n",
              "    </tr>\n",
              "  </tbody>\n",
              "</table>\n",
              "</div>"
            ],
            "text/plain": [
              "                    Amount Of Sales\n",
              "Product                            \n",
              "Macbook Pro Laptop        23.255639"
            ]
          },
          "metadata": {},
          "execution_count": 37
        }
      ]
    },
    {
      "cell_type": "markdown",
      "metadata": {
        "id": "lQD45lSKsSQ5"
      },
      "source": [
        "##The sale of Macbook pro is **23%** in total sales"
      ]
    },
    {
      "cell_type": "markdown",
      "metadata": {
        "id": "uksiGbTWskew"
      },
      "source": [
        "**Calculate Total percentage of Sales for All products**"
      ]
    },
    {
      "cell_type": "code",
      "metadata": {
        "id": "6z7n278EsQJS"
      },
      "source": [
        "percentageOfTotalSales=(totalSalesOfAllProduct[\"Amount Of Sales\"]/totalSales)*100"
      ],
      "execution_count": 38,
      "outputs": []
    },
    {
      "cell_type": "code",
      "metadata": {
        "id": "PjPSk1myujJH"
      },
      "source": [
        "totalSalesOfAllProduct[\"Percentage_Of_Total_Sales\"]=percentageOfTotalSales"
      ],
      "execution_count": 39,
      "outputs": []
    },
    {
      "cell_type": "code",
      "metadata": {
        "colab": {
          "base_uri": "https://localhost:8080/",
          "height": 0
        },
        "id": "bwHKklHNu0wq",
        "outputId": "3672fec5-7660-4459-89b6-71ad259dca5f"
      },
      "source": [
        "totalSalesOfAllProduct"
      ],
      "execution_count": 40,
      "outputs": [
        {
          "output_type": "execute_result",
          "data": {
            "text/html": [
              "<div>\n",
              "<style scoped>\n",
              "    .dataframe tbody tr th:only-of-type {\n",
              "        vertical-align: middle;\n",
              "    }\n",
              "\n",
              "    .dataframe tbody tr th {\n",
              "        vertical-align: top;\n",
              "    }\n",
              "\n",
              "    .dataframe thead th {\n",
              "        text-align: right;\n",
              "    }\n",
              "</style>\n",
              "<table border=\"1\" class=\"dataframe\">\n",
              "  <thead>\n",
              "    <tr style=\"text-align: right;\">\n",
              "      <th></th>\n",
              "      <th>Amount Of Sales</th>\n",
              "      <th>Percentage_Of_Total_Sales</th>\n",
              "    </tr>\n",
              "    <tr>\n",
              "      <th>Product</th>\n",
              "      <th></th>\n",
              "      <th></th>\n",
              "    </tr>\n",
              "  </thead>\n",
              "  <tbody>\n",
              "    <tr>\n",
              "      <th>20in Monitor</th>\n",
              "      <td>452608.85</td>\n",
              "      <td>1.332959</td>\n",
              "    </tr>\n",
              "    <tr>\n",
              "      <th>27in 4K Gaming Monitor</th>\n",
              "      <td>2410528.19</td>\n",
              "      <td>7.099142</td>\n",
              "    </tr>\n",
              "    <tr>\n",
              "      <th>27in FHD Monitor</th>\n",
              "      <td>1120575.29</td>\n",
              "      <td>3.300158</td>\n",
              "    </tr>\n",
              "    <tr>\n",
              "      <th>34in Ultrawide Monitor</th>\n",
              "      <td>2347958.21</td>\n",
              "      <td>6.914870</td>\n",
              "    </tr>\n",
              "    <tr>\n",
              "      <th>AA Batteries (4-pack)</th>\n",
              "      <td>105477.12</td>\n",
              "      <td>0.310636</td>\n",
              "    </tr>\n",
              "    <tr>\n",
              "      <th>AAA Batteries (4-pack)</th>\n",
              "      <td>91386.36</td>\n",
              "      <td>0.269138</td>\n",
              "    </tr>\n",
              "    <tr>\n",
              "      <th>Apple Airpods Headphones</th>\n",
              "      <td>2343450.00</td>\n",
              "      <td>6.901593</td>\n",
              "    </tr>\n",
              "    <tr>\n",
              "      <th>Bose SoundSport Headphones</th>\n",
              "      <td>1347865.20</td>\n",
              "      <td>3.969539</td>\n",
              "    </tr>\n",
              "    <tr>\n",
              "      <th>Flatscreen TV</th>\n",
              "      <td>1434600.00</td>\n",
              "      <td>4.224978</td>\n",
              "    </tr>\n",
              "    <tr>\n",
              "      <th>Google Phone</th>\n",
              "      <td>3309000.00</td>\n",
              "      <td>9.745192</td>\n",
              "    </tr>\n",
              "    <tr>\n",
              "      <th>LG Dryer</th>\n",
              "      <td>372000.00</td>\n",
              "      <td>1.095561</td>\n",
              "    </tr>\n",
              "    <tr>\n",
              "      <th>LG Washing Machine</th>\n",
              "      <td>399600.00</td>\n",
              "      <td>1.176845</td>\n",
              "    </tr>\n",
              "    <tr>\n",
              "      <th>Lightning Charging Cable</th>\n",
              "      <td>344074.25</td>\n",
              "      <td>1.013318</td>\n",
              "    </tr>\n",
              "    <tr>\n",
              "      <th>Macbook Pro Laptop</th>\n",
              "      <td>7896500.00</td>\n",
              "      <td>23.255639</td>\n",
              "    </tr>\n",
              "    <tr>\n",
              "      <th>ThinkPad Laptop</th>\n",
              "      <td>4105958.94</td>\n",
              "      <td>12.092281</td>\n",
              "    </tr>\n",
              "    <tr>\n",
              "      <th>USB-C Charging Cable</th>\n",
              "      <td>285007.50</td>\n",
              "      <td>0.839363</td>\n",
              "    </tr>\n",
              "    <tr>\n",
              "      <th>Vareebadd Phone</th>\n",
              "      <td>822400.00</td>\n",
              "      <td>2.422015</td>\n",
              "    </tr>\n",
              "    <tr>\n",
              "      <th>Wired Headphones</th>\n",
              "      <td>243924.56</td>\n",
              "      <td>0.718372</td>\n",
              "    </tr>\n",
              "    <tr>\n",
              "      <th>iPhone</th>\n",
              "      <td>4723600.00</td>\n",
              "      <td>13.911269</td>\n",
              "    </tr>\n",
              "  </tbody>\n",
              "</table>\n",
              "</div>"
            ],
            "text/plain": [
              "                            Amount Of Sales  Percentage_Of_Total_Sales\n",
              "Product                                                               \n",
              "20in Monitor                      452608.85                   1.332959\n",
              "27in 4K Gaming Monitor           2410528.19                   7.099142\n",
              "27in FHD Monitor                 1120575.29                   3.300158\n",
              "34in Ultrawide Monitor           2347958.21                   6.914870\n",
              "AA Batteries (4-pack)             105477.12                   0.310636\n",
              "AAA Batteries (4-pack)             91386.36                   0.269138\n",
              "Apple Airpods Headphones         2343450.00                   6.901593\n",
              "Bose SoundSport Headphones       1347865.20                   3.969539\n",
              "Flatscreen TV                    1434600.00                   4.224978\n",
              "Google Phone                     3309000.00                   9.745192\n",
              "LG Dryer                          372000.00                   1.095561\n",
              "LG Washing Machine                399600.00                   1.176845\n",
              "Lightning Charging Cable          344074.25                   1.013318\n",
              "Macbook Pro Laptop               7896500.00                  23.255639\n",
              "ThinkPad Laptop                  4105958.94                  12.092281\n",
              "USB-C Charging Cable              285007.50                   0.839363\n",
              "Vareebadd Phone                   822400.00                   2.422015\n",
              "Wired Headphones                  243924.56                   0.718372\n",
              "iPhone                           4723600.00                  13.911269"
            ]
          },
          "metadata": {},
          "execution_count": 40
        }
      ]
    },
    {
      "cell_type": "markdown",
      "metadata": {
        "id": "6CvHxJ1EvNdV"
      },
      "source": [
        "#Check State Wise and City Wise Sales"
      ]
    },
    {
      "cell_type": "code",
      "metadata": {
        "id": "DhhvCPzn_UYP"
      },
      "source": [
        ""
      ],
      "execution_count": 40,
      "outputs": []
    },
    {
      "cell_type": "markdown",
      "metadata": {
        "id": "CuLJRs5830cw"
      },
      "source": [
        "**Analyse which state contains huge Iphone Sales**"
      ]
    },
    {
      "cell_type": "code",
      "metadata": {
        "id": "i1vOgJSp9DPD"
      },
      "source": [
        "Address=newData[\"Purchase Address\"].apply(lambda x:x[:-6])"
      ],
      "execution_count": 41,
      "outputs": []
    },
    {
      "cell_type": "code",
      "metadata": {
        "id": "hwBTaegA_cVK"
      },
      "source": [
        "State=Address.apply(lambda x:x[-2:])"
      ],
      "execution_count": 42,
      "outputs": []
    },
    {
      "cell_type": "code",
      "metadata": {
        "colab": {
          "base_uri": "https://localhost:8080/"
        },
        "id": "3tiyB0aw_lNE",
        "outputId": "505f1a73-c191-4707-e841-ab13444baad7"
      },
      "source": [
        "newData[\"State\"]=State"
      ],
      "execution_count": 43,
      "outputs": [
        {
          "output_type": "stream",
          "name": "stderr",
          "text": [
            "/usr/local/lib/python3.7/dist-packages/ipykernel_launcher.py:1: SettingWithCopyWarning: \n",
            "A value is trying to be set on a copy of a slice from a DataFrame.\n",
            "Try using .loc[row_indexer,col_indexer] = value instead\n",
            "\n",
            "See the caveats in the documentation: https://pandas.pydata.org/pandas-docs/stable/user_guide/indexing.html#returning-a-view-versus-a-copy\n",
            "  \"\"\"Entry point for launching an IPython kernel.\n"
          ]
        }
      ]
    },
    {
      "cell_type": "code",
      "metadata": {
        "colab": {
          "base_uri": "https://localhost:8080/"
        },
        "id": "uVScXTTE_t-m",
        "outputId": "3f855e6b-cc0e-4880-aff4-c6439f56bf5a"
      },
      "source": [
        "#Count number of states in sales data\n",
        "newData.State.value_counts()"
      ],
      "execution_count": 44,
      "outputs": [
        {
          "output_type": "execute_result",
          "data": {
            "text/plain": [
              "CA    73901\n",
              "NY    24589\n",
              "TX    24508\n",
              "MA    19782\n",
              "GA    14795\n",
              "WA    14693\n",
              "OR     9861\n",
              "ME     2421\n",
              "Name: State, dtype: int64"
            ]
          },
          "metadata": {},
          "execution_count": 44
        }
      ]
    },
    {
      "cell_type": "code",
      "metadata": {
        "id": "_sRnoP0f_xdB"
      },
      "source": [
        "stateWiseIphoneSales=newData[newData[\"Product\"]==\"iPhone\"]"
      ],
      "execution_count": 45,
      "outputs": []
    },
    {
      "cell_type": "code",
      "metadata": {
        "id": "6qiVMsnaCfVL"
      },
      "source": [
        "stateWiseData=stateWiseIphoneSales[\"State\"].value_counts()"
      ],
      "execution_count": 46,
      "outputs": []
    },
    {
      "cell_type": "code",
      "metadata": {
        "id": "EN3mTMhADkc_"
      },
      "source": [
        "def changeNameOfStates(string):\n",
        "  if string==\"CA\":\n",
        "    return \"California\"\n",
        "  elif string==\"TX\":\n",
        "    return \"Texas\"\n",
        "  elif string==\"NY\":\n",
        "    return \"New York\"\n",
        "  elif string==\"MA\":\n",
        "    return \"Massachusetts\"\n",
        "  elif string==\"OR\":\n",
        "    return \"Orlando\"\n",
        "  elif string==\"ME\":\n",
        "    return \"Maine\"\n",
        "  elif string==\"WA\":\n",
        "    return \"Wasington DC\"\n",
        "  elif string==\"GA\":\n",
        "    return \"Georgia\"\n"
      ],
      "execution_count": 47,
      "outputs": []
    },
    {
      "cell_type": "code",
      "metadata": {
        "colab": {
          "base_uri": "https://localhost:8080/"
        },
        "id": "y2m_N5wGE96w",
        "outputId": "ca9b7d13-94ee-44f7-83b9-f56e68fcdde2"
      },
      "source": [
        "newData[\"State\"]=newData[\"State\"].apply(lambda x:changeNameOfStates(x))"
      ],
      "execution_count": 48,
      "outputs": [
        {
          "output_type": "stream",
          "name": "stderr",
          "text": [
            "/usr/local/lib/python3.7/dist-packages/ipykernel_launcher.py:1: SettingWithCopyWarning: \n",
            "A value is trying to be set on a copy of a slice from a DataFrame.\n",
            "Try using .loc[row_indexer,col_indexer] = value instead\n",
            "\n",
            "See the caveats in the documentation: https://pandas.pydata.org/pandas-docs/stable/user_guide/indexing.html#returning-a-view-versus-a-copy\n",
            "  \"\"\"Entry point for launching an IPython kernel.\n"
          ]
        }
      ]
    },
    {
      "cell_type": "code",
      "metadata": {
        "colab": {
          "base_uri": "https://localhost:8080/",
          "height": 0
        },
        "id": "pG48pspfF9Y3",
        "outputId": "f8af5409-77af-4f2e-dcef-dfce6e909f85"
      },
      "source": [
        "newData"
      ],
      "execution_count": 49,
      "outputs": [
        {
          "output_type": "execute_result",
          "data": {
            "text/html": [
              "<div>\n",
              "<style scoped>\n",
              "    .dataframe tbody tr th:only-of-type {\n",
              "        vertical-align: middle;\n",
              "    }\n",
              "\n",
              "    .dataframe tbody tr th {\n",
              "        vertical-align: top;\n",
              "    }\n",
              "\n",
              "    .dataframe thead th {\n",
              "        text-align: right;\n",
              "    }\n",
              "</style>\n",
              "<table border=\"1\" class=\"dataframe\">\n",
              "  <thead>\n",
              "    <tr style=\"text-align: right;\">\n",
              "      <th></th>\n",
              "      <th>Order ID</th>\n",
              "      <th>Product</th>\n",
              "      <th>Quantity Ordered</th>\n",
              "      <th>Price Each</th>\n",
              "      <th>Order Date</th>\n",
              "      <th>Purchase Address</th>\n",
              "      <th>Amount Of Sales</th>\n",
              "      <th>State</th>\n",
              "    </tr>\n",
              "  </thead>\n",
              "  <tbody>\n",
              "    <tr>\n",
              "      <th>0</th>\n",
              "      <td>141234</td>\n",
              "      <td>iPhone</td>\n",
              "      <td>1</td>\n",
              "      <td>700.00</td>\n",
              "      <td>01/22/19 21:25</td>\n",
              "      <td>944 Walnut St, Boston, MA 02215</td>\n",
              "      <td>700.00</td>\n",
              "      <td>Massachusetts</td>\n",
              "    </tr>\n",
              "    <tr>\n",
              "      <th>1</th>\n",
              "      <td>141235</td>\n",
              "      <td>Lightning Charging Cable</td>\n",
              "      <td>1</td>\n",
              "      <td>14.95</td>\n",
              "      <td>01/28/19 14:15</td>\n",
              "      <td>185 Maple St, Portland, OR 97035</td>\n",
              "      <td>14.95</td>\n",
              "      <td>Orlando</td>\n",
              "    </tr>\n",
              "    <tr>\n",
              "      <th>2</th>\n",
              "      <td>141236</td>\n",
              "      <td>Wired Headphones</td>\n",
              "      <td>2</td>\n",
              "      <td>11.99</td>\n",
              "      <td>01/17/19 13:33</td>\n",
              "      <td>538 Adams St, San Francisco, CA 94016</td>\n",
              "      <td>23.98</td>\n",
              "      <td>California</td>\n",
              "    </tr>\n",
              "    <tr>\n",
              "      <th>3</th>\n",
              "      <td>141237</td>\n",
              "      <td>27in FHD Monitor</td>\n",
              "      <td>1</td>\n",
              "      <td>149.99</td>\n",
              "      <td>01/05/19 20:33</td>\n",
              "      <td>738 10th St, Los Angeles, CA 90001</td>\n",
              "      <td>149.99</td>\n",
              "      <td>California</td>\n",
              "    </tr>\n",
              "    <tr>\n",
              "      <th>4</th>\n",
              "      <td>141238</td>\n",
              "      <td>Wired Headphones</td>\n",
              "      <td>1</td>\n",
              "      <td>11.99</td>\n",
              "      <td>01/25/19 11:59</td>\n",
              "      <td>387 10th St, Austin, TX 73301</td>\n",
              "      <td>11.99</td>\n",
              "      <td>Texas</td>\n",
              "    </tr>\n",
              "    <tr>\n",
              "      <th>...</th>\n",
              "      <td>...</td>\n",
              "      <td>...</td>\n",
              "      <td>...</td>\n",
              "      <td>...</td>\n",
              "      <td>...</td>\n",
              "      <td>...</td>\n",
              "      <td>...</td>\n",
              "      <td>...</td>\n",
              "    </tr>\n",
              "    <tr>\n",
              "      <th>25112</th>\n",
              "      <td>319666</td>\n",
              "      <td>Lightning Charging Cable</td>\n",
              "      <td>1</td>\n",
              "      <td>14.95</td>\n",
              "      <td>12/11/19 20:58</td>\n",
              "      <td>14 Madison St, San Francisco, CA 94016</td>\n",
              "      <td>14.95</td>\n",
              "      <td>California</td>\n",
              "    </tr>\n",
              "    <tr>\n",
              "      <th>25113</th>\n",
              "      <td>319667</td>\n",
              "      <td>AA Batteries (4-pack)</td>\n",
              "      <td>2</td>\n",
              "      <td>3.84</td>\n",
              "      <td>12/01/19 12:01</td>\n",
              "      <td>549 Willow St, Los Angeles, CA 90001</td>\n",
              "      <td>7.68</td>\n",
              "      <td>California</td>\n",
              "    </tr>\n",
              "    <tr>\n",
              "      <th>25114</th>\n",
              "      <td>319668</td>\n",
              "      <td>Vareebadd Phone</td>\n",
              "      <td>1</td>\n",
              "      <td>400.00</td>\n",
              "      <td>12/09/19 06:43</td>\n",
              "      <td>273 Wilson St, Seattle, WA 98101</td>\n",
              "      <td>400.00</td>\n",
              "      <td>Wasington DC</td>\n",
              "    </tr>\n",
              "    <tr>\n",
              "      <th>25115</th>\n",
              "      <td>319669</td>\n",
              "      <td>Wired Headphones</td>\n",
              "      <td>1</td>\n",
              "      <td>11.99</td>\n",
              "      <td>12/03/19 10:39</td>\n",
              "      <td>778 River St, Dallas, TX 75001</td>\n",
              "      <td>11.99</td>\n",
              "      <td>Texas</td>\n",
              "    </tr>\n",
              "    <tr>\n",
              "      <th>25116</th>\n",
              "      <td>319670</td>\n",
              "      <td>Bose SoundSport Headphones</td>\n",
              "      <td>1</td>\n",
              "      <td>99.99</td>\n",
              "      <td>12/21/19 21:45</td>\n",
              "      <td>747 Chestnut St, Los Angeles, CA 90001</td>\n",
              "      <td>99.99</td>\n",
              "      <td>California</td>\n",
              "    </tr>\n",
              "  </tbody>\n",
              "</table>\n",
              "<p>184550 rows × 8 columns</p>\n",
              "</div>"
            ],
            "text/plain": [
              "      Order ID                     Product  ...  Amount Of Sales          State\n",
              "0       141234                      iPhone  ...           700.00  Massachusetts\n",
              "1       141235    Lightning Charging Cable  ...            14.95        Orlando\n",
              "2       141236            Wired Headphones  ...            23.98     California\n",
              "3       141237            27in FHD Monitor  ...           149.99     California\n",
              "4       141238            Wired Headphones  ...            11.99          Texas\n",
              "...        ...                         ...  ...              ...            ...\n",
              "25112   319666    Lightning Charging Cable  ...            14.95     California\n",
              "25113   319667       AA Batteries (4-pack)  ...             7.68     California\n",
              "25114   319668             Vareebadd Phone  ...           400.00   Wasington DC\n",
              "25115   319669            Wired Headphones  ...            11.99          Texas\n",
              "25116   319670  Bose SoundSport Headphones  ...            99.99     California\n",
              "\n",
              "[184550 rows x 8 columns]"
            ]
          },
          "metadata": {},
          "execution_count": 49
        }
      ]
    },
    {
      "cell_type": "code",
      "metadata": {
        "colab": {
          "base_uri": "https://localhost:8080/",
          "height": 0
        },
        "id": "ARZBQk8IGq2-",
        "outputId": "b036814f-7a48-49ce-aada-01961fea7c39"
      },
      "source": [
        "#Visualize the distribution of data\n",
        "\n",
        "labels=np.array(stateWiseData.index)\n",
        "plt.figure(figsize=(10,10))\n",
        "colors = sb.color_palette('pastel')[0:5]\n",
        "plt.pie(stateWiseData,labels=labels,colors = colors,autopct='%.0f%%')\n",
        "plt.show()\n",
        "print(labels)"
      ],
      "execution_count": 50,
      "outputs": [
        {
          "output_type": "display_data",
          "data": {
            "image/png": "[encoded data removed]",
            "text/plain": [
              "<Figure size 720x720 with 1 Axes>"
            ]
          },
          "metadata": {}
        },
        {
          "output_type": "stream",
          "name": "stdout",
          "text": [
            "['CA' 'TX' 'NY' 'MA' 'WA' 'GA' 'OR' 'ME']\n"
          ]
        }
      ]
    },
    {
      "cell_type": "markdown",
      "metadata": {
        "id": "WIJFLvgtLa73"
      },
      "source": [
        "The Pie Chart Explains  the ***California*** State has Huge Sales of Iphone"
      ]
    },
    {
      "cell_type": "code",
      "metadata": {
        "id": "J2f5Tq58LZVz"
      },
      "source": [
        "#Check what is the percentage of Iphone sales In california against all state sales of Iphone\n",
        "TotalIphonesales=stateWiseIphoneSales['Amount Of Sales'].sum()"
      ],
      "execution_count": 51,
      "outputs": []
    },
    {
      "cell_type": "code",
      "metadata": {
        "id": "yrxflJtXNh5T"
      },
      "source": [
        "californiaIphoneSales=stateWiseIphoneSales[stateWiseIphoneSales[\"State\"]=='California']\n",
        "californiaSales=californiaIphoneSales[\"Amount Of Sales\"].sum()"
      ],
      "execution_count": 52,
      "outputs": []
    },
    {
      "cell_type": "code",
      "metadata": {
        "colab": {
          "base_uri": "https://localhost:8080/"
        },
        "id": "9TGXTrhjOGAH",
        "outputId": "0f721046-eaca-4382-efdb-b943c4c2baae"
      },
      "source": [
        "round((californiaSales/TotalIphonesales)*100)"
      ],
      "execution_count": 53,
      "outputs": [
        {
          "output_type": "execute_result",
          "data": {
            "text/plain": [
              "0"
            ]
          },
          "metadata": {},
          "execution_count": 53
        }
      ]
    },
    {
      "cell_type": "markdown",
      "metadata": {
        "id": "QRL8sevmORYc"
      },
      "source": [
        "*According to this details out of **40%** of Iphone get sale in Califorinia Alone for the Particular Store*"
      ]
    },
    {
      "cell_type": "markdown",
      "metadata": {
        "id": "gjlY1QCFR9S8"
      },
      "source": [
        "**City wise Iphone sales Data**"
      ]
    },
    {
      "cell_type": "code",
      "metadata": {
        "id": "JNZQavG9T4yW"
      },
      "source": [
        "def getCity(string):\n",
        "  return string.split(\", \")[1]\n"
      ],
      "execution_count": 54,
      "outputs": []
    },
    {
      "cell_type": "code",
      "metadata": {
        "colab": {
          "base_uri": "https://localhost:8080/"
        },
        "id": "Hi6M24JrR8qy",
        "outputId": "06387c4f-8cdf-4f0b-b2e7-0416dc5451d7"
      },
      "source": [
        "#Get City \n",
        "address=newData[\"Purchase Address\"].apply(lambda x:x[:-10])\n",
        "newData[\"City\"]=address.apply(lambda x:getCity(x))"
      ],
      "execution_count": 55,
      "outputs": [
        {
          "output_type": "stream",
          "name": "stderr",
          "text": [
            "/usr/local/lib/python3.7/dist-packages/ipykernel_launcher.py:3: SettingWithCopyWarning: \n",
            "A value is trying to be set on a copy of a slice from a DataFrame.\n",
            "Try using .loc[row_indexer,col_indexer] = value instead\n",
            "\n",
            "See the caveats in the documentation: https://pandas.pydata.org/pandas-docs/stable/user_guide/indexing.html#returning-a-view-versus-a-copy\n",
            "  This is separate from the ipykernel package so we can avoid doing imports until\n"
          ]
        }
      ]
    },
    {
      "cell_type": "code",
      "metadata": {
        "colab": {
          "base_uri": "https://localhost:8080/"
        },
        "id": "bSIi2TP7OQ77",
        "outputId": "a5b1f436-8e75-4d0c-9ddf-4917317ceb81"
      },
      "source": [
        "newData[\"Product\"].unique()"
      ],
      "execution_count": 56,
      "outputs": [
        {
          "output_type": "execute_result",
          "data": {
            "text/plain": [
              "array(['iPhone', 'Lightning Charging Cable', 'Wired Headphones',\n",
              "       '27in FHD Monitor', 'AAA Batteries (4-pack)',\n",
              "       '27in 4K Gaming Monitor', 'USB-C Charging Cable',\n",
              "       'Bose SoundSport Headphones', 'Apple Airpods Headphones',\n",
              "       'Macbook Pro Laptop', 'Flatscreen TV', 'Vareebadd Phone',\n",
              "       'AA Batteries (4-pack)', 'Google Phone', '20in Monitor',\n",
              "       '34in Ultrawide Monitor', 'ThinkPad Laptop', 'LG Dryer',\n",
              "       'LG Washing Machine'], dtype=object)"
            ]
          },
          "metadata": {},
          "execution_count": 56
        }
      ]
    },
    {
      "cell_type": "code",
      "metadata": {
        "colab": {
          "base_uri": "https://localhost:8080/"
        },
        "id": "7ChFOqNQRwhp",
        "outputId": "26edddb2-9c64-4eb6-cb2b-8a5aa675cb5d"
      },
      "source": [
        "newData[\"City\"].value_counts()"
      ],
      "execution_count": 57,
      "outputs": [
        {
          "output_type": "execute_result",
          "data": {
            "text/plain": [
              "San Francisco    44408\n",
              "Los Angeles      29493\n",
              "New York City    24589\n",
              "Boston           19782\n",
              "Atlanta          14795\n",
              "Seattle          14693\n",
              "Dallas           14602\n",
              "Portland         12282\n",
              "Austin            9906\n",
              "Name: City, dtype: int64"
            ]
          },
          "metadata": {},
          "execution_count": 57
        }
      ]
    },
    {
      "cell_type": "markdown",
      "metadata": {
        "id": "4dfNf3qoXpQR"
      },
      "source": [
        "According the data **San Fancisco** has huge sales "
      ]
    },
    {
      "cell_type": "markdown",
      "metadata": {
        "id": "87KgXc-nX1Ek"
      },
      "source": [
        "#Lets check which city has more Mobile sales ans Laptop sales"
      ]
    },
    {
      "cell_type": "markdown",
      "metadata": {
        "id": "-dgaepJlafHi"
      },
      "source": [
        "**Mobiles sales**\n",
        "\n",
        "  In this case This particularr store only sell 'iPhone','Google Phone',so we analysze only these details "
      ]
    },
    {
      "cell_type": "code",
      "metadata": {
        "id": "mkw8U-CTXxlC"
      },
      "source": [
        "phonesSales=newData[newData[\"Product\"].isin(['iPhone','Google Phone'])]"
      ],
      "execution_count": 58,
      "outputs": []
    },
    {
      "cell_type": "code",
      "metadata": {
        "id": "PiVrmg2agnA5"
      },
      "source": [
        ""
      ],
      "execution_count": 58,
      "outputs": []
    },
    {
      "cell_type": "code",
      "metadata": {
        "colab": {
          "base_uri": "https://localhost:8080/",
          "height": 342
        },
        "id": "XvQHOw3QXorn",
        "outputId": "b052f550-f7a6-43cd-a4a5-d3e550cab54b"
      },
      "source": [
        "phonesSales[\"City\"].value_counts().plot.bar()"
      ],
      "execution_count": 59,
      "outputs": [
        {
          "output_type": "execute_result",
          "data": {
            "text/plain": [
              "<matplotlib.axes._subplots.AxesSubplot at 0x7f457d6bfed0>"
            ]
          },
          "metadata": {},
          "execution_count": 59
        },
        {
          "output_type": "display_data",
          "data": {
            "image/png": "[encoded data removed]",
            "text/plain": [
              "<Figure size 432x288 with 1 Axes>"
            ]
          },
          "metadata": {
            "needs_background": "light"
          }
        }
      ]
    },
    {
      "cell_type": "markdown",
      "metadata": {
        "id": "O75rS1YEjUsE"
      },
      "source": [
        "**The Huge phone sales in San Fransisco**"
      ]
    },
    {
      "cell_type": "code",
      "metadata": {
        "id": "iYEEGjgUgpuB"
      },
      "source": [
        "TotalOfPhones=phonesSales['Product'].value_counts().sum()"
      ],
      "execution_count": 60,
      "outputs": []
    },
    {
      "cell_type": "code",
      "metadata": {
        "id": "8c4c4AAlhO8H"
      },
      "source": [
        "PhoneSalesSplit=phonesSales.pivot_table(index=\"City\",values=\"Amount Of Sales\",columns=\"Product\",aggfunc=\"sum\")"
      ],
      "execution_count": 61,
      "outputs": []
    },
    {
      "cell_type": "markdown",
      "metadata": {
        "id": "QWuI6xOBkNg2"
      },
      "source": [
        "Below this is Data Driven Matrices"
      ]
    },
    {
      "cell_type": "code",
      "metadata": {
        "id": "uOsZW5xTjAID"
      },
      "source": [
        "PhoneSalesSplit[\"TotalSales\"]=PhoneSalesSplit[\"Google Phone\"]+PhoneSalesSplit[\"iPhone\"]"
      ],
      "execution_count": 62,
      "outputs": []
    },
    {
      "cell_type": "markdown",
      "metadata": {
        "id": "NkH2RjcIge4I"
      },
      "source": [
        ""
      ]
    },
    {
      "cell_type": "code",
      "metadata": {
        "colab": {
          "base_uri": "https://localhost:8080/",
          "height": 355
        },
        "id": "kiaZlYoEgeMN",
        "outputId": "f5868594-d5b4-44b7-fa7f-5b0885f9934f"
      },
      "source": [
        "PhoneSalesSplit"
      ],
      "execution_count": 63,
      "outputs": [
        {
          "output_type": "execute_result",
          "data": {
            "text/html": [
              "<div>\n",
              "<style scoped>\n",
              "    .dataframe tbody tr th:only-of-type {\n",
              "        vertical-align: middle;\n",
              "    }\n",
              "\n",
              "    .dataframe tbody tr th {\n",
              "        vertical-align: top;\n",
              "    }\n",
              "\n",
              "    .dataframe thead th {\n",
              "        text-align: right;\n",
              "    }\n",
              "</style>\n",
              "<table border=\"1\" class=\"dataframe\">\n",
              "  <thead>\n",
              "    <tr style=\"text-align: right;\">\n",
              "      <th>Product</th>\n",
              "      <th>Google Phone</th>\n",
              "      <th>iPhone</th>\n",
              "      <th>TotalSales</th>\n",
              "    </tr>\n",
              "    <tr>\n",
              "      <th>City</th>\n",
              "      <th></th>\n",
              "      <th></th>\n",
              "      <th></th>\n",
              "    </tr>\n",
              "  </thead>\n",
              "  <tbody>\n",
              "    <tr>\n",
              "      <th>Atlanta</th>\n",
              "      <td>272400.0</td>\n",
              "      <td>382900.0</td>\n",
              "      <td>655300.0</td>\n",
              "    </tr>\n",
              "    <tr>\n",
              "      <th>Austin</th>\n",
              "      <td>162000.0</td>\n",
              "      <td>268100.0</td>\n",
              "      <td>430100.0</td>\n",
              "    </tr>\n",
              "    <tr>\n",
              "      <th>Boston</th>\n",
              "      <td>359400.0</td>\n",
              "      <td>513800.0</td>\n",
              "      <td>873200.0</td>\n",
              "    </tr>\n",
              "    <tr>\n",
              "      <th>Dallas</th>\n",
              "      <td>284400.0</td>\n",
              "      <td>357000.0</td>\n",
              "      <td>641400.0</td>\n",
              "    </tr>\n",
              "    <tr>\n",
              "      <th>Los Angeles</th>\n",
              "      <td>511800.0</td>\n",
              "      <td>752500.0</td>\n",
              "      <td>1264300.0</td>\n",
              "    </tr>\n",
              "    <tr>\n",
              "      <th>New York City</th>\n",
              "      <td>448200.0</td>\n",
              "      <td>611100.0</td>\n",
              "      <td>1059300.0</td>\n",
              "    </tr>\n",
              "    <tr>\n",
              "      <th>Portland</th>\n",
              "      <td>207600.0</td>\n",
              "      <td>296800.0</td>\n",
              "      <td>504400.0</td>\n",
              "    </tr>\n",
              "    <tr>\n",
              "      <th>San Francisco</th>\n",
              "      <td>806400.0</td>\n",
              "      <td>1159200.0</td>\n",
              "      <td>1965600.0</td>\n",
              "    </tr>\n",
              "    <tr>\n",
              "      <th>Seattle</th>\n",
              "      <td>256800.0</td>\n",
              "      <td>382200.0</td>\n",
              "      <td>639000.0</td>\n",
              "    </tr>\n",
              "  </tbody>\n",
              "</table>\n",
              "</div>"
            ],
            "text/plain": [
              "Product        Google Phone     iPhone  TotalSales\n",
              "City                                              \n",
              "Atlanta            272400.0   382900.0    655300.0\n",
              "Austin             162000.0   268100.0    430100.0\n",
              "Boston             359400.0   513800.0    873200.0\n",
              "Dallas             284400.0   357000.0    641400.0\n",
              "Los Angeles        511800.0   752500.0   1264300.0\n",
              "New York City      448200.0   611100.0   1059300.0\n",
              "Portland           207600.0   296800.0    504400.0\n",
              "San Francisco      806400.0  1159200.0   1965600.0\n",
              "Seattle            256800.0   382200.0    639000.0"
            ]
          },
          "metadata": {},
          "execution_count": 63
        }
      ]
    },
    {
      "cell_type": "code",
      "metadata": {
        "id": "CgmJe9Ryk8eN"
      },
      "source": [
        "PhoneSalesSplit[\"GooglePhoneSales\"]=PhoneSalesSplit[\"Google Phone\"]/PhoneSalesSplit[\"TotalSales\"]\n",
        "PhoneSalesSplit[\"Iphone Sales\"]=PhoneSalesSplit[\"iPhone\"]/PhoneSalesSplit[\"TotalSales\"]"
      ],
      "execution_count": 64,
      "outputs": []
    },
    {
      "cell_type": "code",
      "metadata": {
        "id": "9Oaz1TrcRp6i"
      },
      "source": [
        "percentageOfsales=PhoneSalesSplit.pivot_table(index=\"City\",values=[\"GooglePhoneSales\",\"Iphone Sales\"])"
      ],
      "execution_count": 65,
      "outputs": []
    },
    {
      "cell_type": "code",
      "metadata": {
        "colab": {
          "base_uri": "https://localhost:8080/",
          "height": 355
        },
        "id": "clN-q8xanGxL",
        "outputId": "d72dbfb3-9359-468b-d383-7babea7fa579"
      },
      "source": [
        "percentageOfsales.plot.bar(stacked=True)"
      ],
      "execution_count": 66,
      "outputs": [
        {
          "output_type": "execute_result",
          "data": {
            "text/plain": [
              "<matplotlib.axes._subplots.AxesSubplot at 0x7f457bc34bd0>"
            ]
          },
          "metadata": {},
          "execution_count": 66
        },
        {
          "output_type": "display_data",
          "data": {
            "image/png": "[encoded data removed]",
            "text/plain": [
              "<Figure size 432x288 with 1 Axes>"
            ]
          },
          "metadata": {
            "needs_background": "light"
          }
        }
      ]
    },
    {
      "cell_type": "markdown",
      "metadata": {
        "id": "A1IsQda2nXvZ"
      },
      "source": [
        "**The above Stacked Graph show the Which phone get More sale in Each City**"
      ]
    },
    {
      "cell_type": "code",
      "metadata": {
        "id": "oPR1t02wnlvV"
      },
      "source": [
        "#"
      ],
      "execution_count": 67,
      "outputs": []
    },
    {
      "cell_type": "markdown",
      "metadata": {
        "id": "HMN_ZLoenpdx"
      },
      "source": [
        "**Lets Analyse Laptop sales of Each month**"
      ]
    },
    {
      "cell_type": "code",
      "metadata": {
        "colab": {
          "base_uri": "https://localhost:8080/"
        },
        "id": "o_txnn14oIM6",
        "outputId": "16566cbf-81f5-4bc9-e76b-acf1160dc2ce"
      },
      "source": [
        "#Get Month Order Date data \n",
        "#Check data type of Series\n",
        "newData[\"Order Date\"].dtype"
      ],
      "execution_count": 68,
      "outputs": [
        {
          "output_type": "execute_result",
          "data": {
            "text/plain": [
              "dtype('O')"
            ]
          },
          "metadata": {},
          "execution_count": 68
        }
      ]
    },
    {
      "cell_type": "code",
      "metadata": {
        "colab": {
          "base_uri": "https://localhost:8080/"
        },
        "id": "Xhcs439znWsl",
        "outputId": "5dfaf6fb-7d36-4bbb-b734-04e4db2a62d9"
      },
      "source": [
        "#Change Data Type of date\n",
        "newData[\"Order Date\"]=pd.to_datetime(newData[\"Order Date\"])"
      ],
      "execution_count": 69,
      "outputs": [
        {
          "output_type": "stream",
          "name": "stderr",
          "text": [
            "/usr/local/lib/python3.7/dist-packages/ipykernel_launcher.py:2: SettingWithCopyWarning: \n",
            "A value is trying to be set on a copy of a slice from a DataFrame.\n",
            "Try using .loc[row_indexer,col_indexer] = value instead\n",
            "\n",
            "See the caveats in the documentation: https://pandas.pydata.org/pandas-docs/stable/user_guide/indexing.html#returning-a-view-versus-a-copy\n",
            "  \n"
          ]
        }
      ]
    },
    {
      "cell_type": "code",
      "metadata": {
        "colab": {
          "base_uri": "https://localhost:8080/"
        },
        "id": "zWZeIFw6pdUM",
        "outputId": "06571622-918b-4009-807c-88603847e7b0"
      },
      "source": [
        "newData[\"Month\"]=newData[\"Order Date\"].dt.month"
      ],
      "execution_count": 70,
      "outputs": [
        {
          "output_type": "stream",
          "name": "stderr",
          "text": [
            "/usr/local/lib/python3.7/dist-packages/ipykernel_launcher.py:1: SettingWithCopyWarning: \n",
            "A value is trying to be set on a copy of a slice from a DataFrame.\n",
            "Try using .loc[row_indexer,col_indexer] = value instead\n",
            "\n",
            "See the caveats in the documentation: https://pandas.pydata.org/pandas-docs/stable/user_guide/indexing.html#returning-a-view-versus-a-copy\n",
            "  \"\"\"Entry point for launching an IPython kernel.\n"
          ]
        }
      ]
    },
    {
      "cell_type": "code",
      "metadata": {
        "colab": {
          "base_uri": "https://localhost:8080/",
          "height": 597
        },
        "id": "b-R4fKpDtOUl",
        "outputId": "f272df53-06f0-4db8-a57f-34a3482cad2e"
      },
      "source": [
        "newData"
      ],
      "execution_count": 71,
      "outputs": [
        {
          "output_type": "execute_result",
          "data": {
            "text/html": [
              "<div>\n",
              "<style scoped>\n",
              "    .dataframe tbody tr th:only-of-type {\n",
              "        vertical-align: middle;\n",
              "    }\n",
              "\n",
              "    .dataframe tbody tr th {\n",
              "        vertical-align: top;\n",
              "    }\n",
              "\n",
              "    .dataframe thead th {\n",
              "        text-align: right;\n",
              "    }\n",
              "</style>\n",
              "<table border=\"1\" class=\"dataframe\">\n",
              "  <thead>\n",
              "    <tr style=\"text-align: right;\">\n",
              "      <th></th>\n",
              "      <th>Order ID</th>\n",
              "      <th>Product</th>\n",
              "      <th>Quantity Ordered</th>\n",
              "      <th>Price Each</th>\n",
              "      <th>Order Date</th>\n",
              "      <th>Purchase Address</th>\n",
              "      <th>Amount Of Sales</th>\n",
              "      <th>State</th>\n",
              "      <th>City</th>\n",
              "      <th>Month</th>\n",
              "    </tr>\n",
              "  </thead>\n",
              "  <tbody>\n",
              "    <tr>\n",
              "      <th>0</th>\n",
              "      <td>141234</td>\n",
              "      <td>iPhone</td>\n",
              "      <td>1</td>\n",
              "      <td>700.00</td>\n",
              "      <td>2019-01-22 21:25:00</td>\n",
              "      <td>944 Walnut St, Boston, MA 02215</td>\n",
              "      <td>700.00</td>\n",
              "      <td>Massachusetts</td>\n",
              "      <td>Boston</td>\n",
              "      <td>1</td>\n",
              "    </tr>\n",
              "    <tr>\n",
              "      <th>1</th>\n",
              "      <td>141235</td>\n",
              "      <td>Lightning Charging Cable</td>\n",
              "      <td>1</td>\n",
              "      <td>14.95</td>\n",
              "      <td>2019-01-28 14:15:00</td>\n",
              "      <td>185 Maple St, Portland, OR 97035</td>\n",
              "      <td>14.95</td>\n",
              "      <td>Orlando</td>\n",
              "      <td>Portland</td>\n",
              "      <td>1</td>\n",
              "    </tr>\n",
              "    <tr>\n",
              "      <th>2</th>\n",
              "      <td>141236</td>\n",
              "      <td>Wired Headphones</td>\n",
              "      <td>2</td>\n",
              "      <td>11.99</td>\n",
              "      <td>2019-01-17 13:33:00</td>\n",
              "      <td>538 Adams St, San Francisco, CA 94016</td>\n",
              "      <td>23.98</td>\n",
              "      <td>California</td>\n",
              "      <td>San Francisco</td>\n",
              "      <td>1</td>\n",
              "    </tr>\n",
              "    <tr>\n",
              "      <th>3</th>\n",
              "      <td>141237</td>\n",
              "      <td>27in FHD Monitor</td>\n",
              "      <td>1</td>\n",
              "      <td>149.99</td>\n",
              "      <td>2019-01-05 20:33:00</td>\n",
              "      <td>738 10th St, Los Angeles, CA 90001</td>\n",
              "      <td>149.99</td>\n",
              "      <td>California</td>\n",
              "      <td>Los Angeles</td>\n",
              "      <td>1</td>\n",
              "    </tr>\n",
              "    <tr>\n",
              "      <th>4</th>\n",
              "      <td>141238</td>\n",
              "      <td>Wired Headphones</td>\n",
              "      <td>1</td>\n",
              "      <td>11.99</td>\n",
              "      <td>2019-01-25 11:59:00</td>\n",
              "      <td>387 10th St, Austin, TX 73301</td>\n",
              "      <td>11.99</td>\n",
              "      <td>Texas</td>\n",
              "      <td>Austin</td>\n",
              "      <td>1</td>\n",
              "    </tr>\n",
              "    <tr>\n",
              "      <th>...</th>\n",
              "      <td>...</td>\n",
              "      <td>...</td>\n",
              "      <td>...</td>\n",
              "      <td>...</td>\n",
              "      <td>...</td>\n",
              "      <td>...</td>\n",
              "      <td>...</td>\n",
              "      <td>...</td>\n",
              "      <td>...</td>\n",
              "      <td>...</td>\n",
              "    </tr>\n",
              "    <tr>\n",
              "      <th>25112</th>\n",
              "      <td>319666</td>\n",
              "      <td>Lightning Charging Cable</td>\n",
              "      <td>1</td>\n",
              "      <td>14.95</td>\n",
              "      <td>2019-12-11 20:58:00</td>\n",
              "      <td>14 Madison St, San Francisco, CA 94016</td>\n",
              "      <td>14.95</td>\n",
              "      <td>California</td>\n",
              "      <td>San Francisco</td>\n",
              "      <td>12</td>\n",
              "    </tr>\n",
              "    <tr>\n",
              "      <th>25113</th>\n",
              "      <td>319667</td>\n",
              "      <td>AA Batteries (4-pack)</td>\n",
              "      <td>2</td>\n",
              "      <td>3.84</td>\n",
              "      <td>2019-12-01 12:01:00</td>\n",
              "      <td>549 Willow St, Los Angeles, CA 90001</td>\n",
              "      <td>7.68</td>\n",
              "      <td>California</td>\n",
              "      <td>Los Angeles</td>\n",
              "      <td>12</td>\n",
              "    </tr>\n",
              "    <tr>\n",
              "      <th>25114</th>\n",
              "      <td>319668</td>\n",
              "      <td>Vareebadd Phone</td>\n",
              "      <td>1</td>\n",
              "      <td>400.00</td>\n",
              "      <td>2019-12-09 06:43:00</td>\n",
              "      <td>273 Wilson St, Seattle, WA 98101</td>\n",
              "      <td>400.00</td>\n",
              "      <td>Wasington DC</td>\n",
              "      <td>Seattle</td>\n",
              "      <td>12</td>\n",
              "    </tr>\n",
              "    <tr>\n",
              "      <th>25115</th>\n",
              "      <td>319669</td>\n",
              "      <td>Wired Headphones</td>\n",
              "      <td>1</td>\n",
              "      <td>11.99</td>\n",
              "      <td>2019-12-03 10:39:00</td>\n",
              "      <td>778 River St, Dallas, TX 75001</td>\n",
              "      <td>11.99</td>\n",
              "      <td>Texas</td>\n",
              "      <td>Dallas</td>\n",
              "      <td>12</td>\n",
              "    </tr>\n",
              "    <tr>\n",
              "      <th>25116</th>\n",
              "      <td>319670</td>\n",
              "      <td>Bose SoundSport Headphones</td>\n",
              "      <td>1</td>\n",
              "      <td>99.99</td>\n",
              "      <td>2019-12-21 21:45:00</td>\n",
              "      <td>747 Chestnut St, Los Angeles, CA 90001</td>\n",
              "      <td>99.99</td>\n",
              "      <td>California</td>\n",
              "      <td>Los Angeles</td>\n",
              "      <td>12</td>\n",
              "    </tr>\n",
              "  </tbody>\n",
              "</table>\n",
              "<p>184550 rows × 10 columns</p>\n",
              "</div>"
            ],
            "text/plain": [
              "      Order ID                     Product  ...           City  Month\n",
              "0       141234                      iPhone  ...         Boston      1\n",
              "1       141235    Lightning Charging Cable  ...       Portland      1\n",
              "2       141236            Wired Headphones  ...  San Francisco      1\n",
              "3       141237            27in FHD Monitor  ...    Los Angeles      1\n",
              "4       141238            Wired Headphones  ...         Austin      1\n",
              "...        ...                         ...  ...            ...    ...\n",
              "25112   319666    Lightning Charging Cable  ...  San Francisco     12\n",
              "25113   319667       AA Batteries (4-pack)  ...    Los Angeles     12\n",
              "25114   319668             Vareebadd Phone  ...        Seattle     12\n",
              "25115   319669            Wired Headphones  ...         Dallas     12\n",
              "25116   319670  Bose SoundSport Headphones  ...    Los Angeles     12\n",
              "\n",
              "[184550 rows x 10 columns]"
            ]
          },
          "metadata": {},
          "execution_count": 71
        }
      ]
    },
    {
      "cell_type": "code",
      "metadata": {
        "id": "b1_8MA1us052"
      },
      "source": [
        "monthlySalesData=newData.pivot_table(index=\"Month\",values='Amount Of Sales',aggfunc=\"sum\")"
      ],
      "execution_count": 72,
      "outputs": []
    },
    {
      "cell_type": "code",
      "metadata": {
        "colab": {
          "base_uri": "https://localhost:8080/",
          "height": 620
        },
        "id": "WnaSu1KKtwG4",
        "outputId": "73508b5e-a8ad-4140-e3c4-865e71463207"
      },
      "source": [
        "plt.figure(figsize=(20,10))\n",
        "plt.plot(monthlySalesData,\"go-\",linewidth=3, markersize=20, mec = 'r', mfc = 'r')#markersize=30)"
      ],
      "execution_count": 73,
      "outputs": [
        {
          "output_type": "execute_result",
          "data": {
            "text/plain": [
              "[<matplotlib.lines.Line2D at 0x7f457bb3a110>]"
            ]
          },
          "metadata": {},
          "execution_count": 73
        },
        {
          "output_type": "display_data",
          "data": {
            "image/png": "[encoded data removed]",
            "text/plain": [
              "<Figure size 1440x720 with 1 Axes>"
            ]
          },
          "metadata": {
            "needs_background": "light"
          }
        }
      ]
    },
    {
      "cell_type": "markdown",
      "metadata": {
        "id": "JgWuE14Vw2RA"
      },
      "source": [
        "This Chart show March month Has Huge Sales After the march month the sales gets fall at the same time may month has huge fall in sales"
      ]
    },
    {
      "cell_type": "markdown",
      "metadata": {
        "id": "oYQNglrYxelM"
      },
      "source": [
        "**Lets check which hour attract more customer**"
      ]
    },
    {
      "cell_type": "code",
      "metadata": {
        "colab": {
          "base_uri": "https://localhost:8080/"
        },
        "id": "YlMjViOuxdiN",
        "outputId": "7d9e7448-1cac-47a6-d794-9132eae91ca3"
      },
      "source": [
        "#Derive the hour data from Order Date\n",
        "newData[\"Hour\"]=newData[\"Order Date\"].dt.hour"
      ],
      "execution_count": 74,
      "outputs": [
        {
          "output_type": "stream",
          "name": "stderr",
          "text": [
            "/usr/local/lib/python3.7/dist-packages/ipykernel_launcher.py:2: SettingWithCopyWarning: \n",
            "A value is trying to be set on a copy of a slice from a DataFrame.\n",
            "Try using .loc[row_indexer,col_indexer] = value instead\n",
            "\n",
            "See the caveats in the documentation: https://pandas.pydata.org/pandas-docs/stable/user_guide/indexing.html#returning-a-view-versus-a-copy\n",
            "  \n"
          ]
        }
      ]
    },
    {
      "cell_type": "code",
      "metadata": {
        "id": "2gvvOhLqyHAz"
      },
      "source": [
        "HourlySalesData=newData.pivot_table(index=\"Hour\",values='Amount Of Sales',aggfunc=\"sum\")"
      ],
      "execution_count": 75,
      "outputs": []
    },
    {
      "cell_type": "code",
      "metadata": {
        "colab": {
          "base_uri": "https://localhost:8080/",
          "height": 620
        },
        "id": "ixK9DzGGyMIA",
        "outputId": "e273e958-0cd9-4ee8-d631-c0abff1e945b"
      },
      "source": [
        "plt.figure(figsize=(20,10))\n",
        "plt.plot(HourlySalesData,\"bo-\",linewidth=3, markersize=20, mec = 'r', mfc = 'r')"
      ],
      "execution_count": 76,
      "outputs": [
        {
          "output_type": "execute_result",
          "data": {
            "text/plain": [
              "[<matplotlib.lines.Line2D at 0x7f457ba9cdd0>]"
            ]
          },
          "metadata": {},
          "execution_count": 76
        },
        {
          "output_type": "display_data",
          "data": {
            "image/png": "[encoded data removed]",
            "text/plain": [
              "<Figure size 1440x720 with 1 Axes>"
            ]
          },
          "metadata": {
            "needs_background": "light"
          }
        }
      ]
    },
    {
      "cell_type": "markdown",
      "metadata": {
        "id": "THC1MrLTyro3"
      },
      "source": [
        "This Line Graph shown from 10Am  to 12AM has Hugh sale There is no specific time for sales it get order 24Hours,while seening this 2AM to 6AM Has Very less Sale,This is pe"
      ]
    },
    {
      "cell_type": "markdown",
      "metadata": {
        "id": "CWlJbdvd22Ot"
      },
      "source": [
        "**Which product get sell together More often?**"
      ]
    },
    {
      "cell_type": "code",
      "metadata": {
        "id": "c4N2AabSJGsV"
      },
      "source": [
        "#Get which Order Id Occurs More than one time this details is enough for analyse the combination of purchase\n",
        "oftenPurchaseData=newData[newData['Order ID'].duplicated(keep=False)]"
      ],
      "execution_count": 90,
      "outputs": []
    },
    {
      "cell_type": "code",
      "metadata": {
        "colab": {
          "base_uri": "https://localhost:8080/",
          "height": 581
        },
        "id": "mioTrfKFNjKU",
        "outputId": "569e7c24-ae40-43bd-9240-1567a8284432"
      },
      "source": [
        "\n",
        "oftenPurchaseData"
      ],
      "execution_count": 91,
      "outputs": [
        {
          "output_type": "execute_result",
          "data": {
            "text/html": [
              "<div>\n",
              "<style scoped>\n",
              "    .dataframe tbody tr th:only-of-type {\n",
              "        vertical-align: middle;\n",
              "    }\n",
              "\n",
              "    .dataframe tbody tr th {\n",
              "        vertical-align: top;\n",
              "    }\n",
              "\n",
              "    .dataframe thead th {\n",
              "        text-align: right;\n",
              "    }\n",
              "</style>\n",
              "<table border=\"1\" class=\"dataframe\">\n",
              "  <thead>\n",
              "    <tr style=\"text-align: right;\">\n",
              "      <th></th>\n",
              "      <th>Order ID</th>\n",
              "      <th>Product</th>\n",
              "      <th>Quantity Ordered</th>\n",
              "      <th>Price Each</th>\n",
              "      <th>Order Date</th>\n",
              "      <th>Purchase Address</th>\n",
              "      <th>Amount Of Sales</th>\n",
              "      <th>State</th>\n",
              "      <th>City</th>\n",
              "      <th>Month</th>\n",
              "      <th>Hour</th>\n",
              "    </tr>\n",
              "  </thead>\n",
              "  <tbody>\n",
              "    <tr>\n",
              "      <th>41</th>\n",
              "      <td>141275</td>\n",
              "      <td>USB-C Charging Cable</td>\n",
              "      <td>1</td>\n",
              "      <td>11.95</td>\n",
              "      <td>2019-01-07 16:06:00</td>\n",
              "      <td>610 Walnut St, Austin, TX 73301</td>\n",
              "      <td>11.95</td>\n",
              "      <td>Texas</td>\n",
              "      <td>Austin</td>\n",
              "      <td>1</td>\n",
              "      <td>16</td>\n",
              "    </tr>\n",
              "    <tr>\n",
              "      <th>42</th>\n",
              "      <td>141275</td>\n",
              "      <td>Wired Headphones</td>\n",
              "      <td>1</td>\n",
              "      <td>11.99</td>\n",
              "      <td>2019-01-07 16:06:00</td>\n",
              "      <td>610 Walnut St, Austin, TX 73301</td>\n",
              "      <td>11.99</td>\n",
              "      <td>Texas</td>\n",
              "      <td>Austin</td>\n",
              "      <td>1</td>\n",
              "      <td>16</td>\n",
              "    </tr>\n",
              "    <tr>\n",
              "      <th>57</th>\n",
              "      <td>141290</td>\n",
              "      <td>Apple Airpods Headphones</td>\n",
              "      <td>1</td>\n",
              "      <td>150.00</td>\n",
              "      <td>2019-01-02 08:25:00</td>\n",
              "      <td>4 1st St, Los Angeles, CA 90001</td>\n",
              "      <td>150.00</td>\n",
              "      <td>California</td>\n",
              "      <td>Los Angeles</td>\n",
              "      <td>1</td>\n",
              "      <td>8</td>\n",
              "    </tr>\n",
              "    <tr>\n",
              "      <th>58</th>\n",
              "      <td>141290</td>\n",
              "      <td>AA Batteries (4-pack)</td>\n",
              "      <td>3</td>\n",
              "      <td>3.84</td>\n",
              "      <td>2019-01-02 08:25:00</td>\n",
              "      <td>4 1st St, Los Angeles, CA 90001</td>\n",
              "      <td>11.52</td>\n",
              "      <td>California</td>\n",
              "      <td>Los Angeles</td>\n",
              "      <td>1</td>\n",
              "      <td>8</td>\n",
              "    </tr>\n",
              "    <tr>\n",
              "      <th>133</th>\n",
              "      <td>141365</td>\n",
              "      <td>Vareebadd Phone</td>\n",
              "      <td>1</td>\n",
              "      <td>400.00</td>\n",
              "      <td>2019-01-10 11:19:00</td>\n",
              "      <td>20 Dogwood St, New York City, NY 10001</td>\n",
              "      <td>400.00</td>\n",
              "      <td>New York</td>\n",
              "      <td>New York City</td>\n",
              "      <td>1</td>\n",
              "      <td>11</td>\n",
              "    </tr>\n",
              "    <tr>\n",
              "      <th>...</th>\n",
              "      <td>...</td>\n",
              "      <td>...</td>\n",
              "      <td>...</td>\n",
              "      <td>...</td>\n",
              "      <td>...</td>\n",
              "      <td>...</td>\n",
              "      <td>...</td>\n",
              "      <td>...</td>\n",
              "      <td>...</td>\n",
              "      <td>...</td>\n",
              "      <td>...</td>\n",
              "    </tr>\n",
              "    <tr>\n",
              "      <th>25028</th>\n",
              "      <td>319584</td>\n",
              "      <td>Wired Headphones</td>\n",
              "      <td>1</td>\n",
              "      <td>11.99</td>\n",
              "      <td>2019-12-11 00:30:00</td>\n",
              "      <td>537 Sunset St, Portland, OR 97035</td>\n",
              "      <td>11.99</td>\n",
              "      <td>Orlando</td>\n",
              "      <td>Portland</td>\n",
              "      <td>12</td>\n",
              "      <td>0</td>\n",
              "    </tr>\n",
              "    <tr>\n",
              "      <th>25040</th>\n",
              "      <td>319596</td>\n",
              "      <td>iPhone</td>\n",
              "      <td>1</td>\n",
              "      <td>700.00</td>\n",
              "      <td>2019-12-01 08:44:00</td>\n",
              "      <td>436 14th St, New York City, NY 10001</td>\n",
              "      <td>700.00</td>\n",
              "      <td>New York</td>\n",
              "      <td>New York City</td>\n",
              "      <td>12</td>\n",
              "      <td>8</td>\n",
              "    </tr>\n",
              "    <tr>\n",
              "      <th>25041</th>\n",
              "      <td>319596</td>\n",
              "      <td>Lightning Charging Cable</td>\n",
              "      <td>1</td>\n",
              "      <td>14.95</td>\n",
              "      <td>2019-12-01 08:44:00</td>\n",
              "      <td>436 14th St, New York City, NY 10001</td>\n",
              "      <td>14.95</td>\n",
              "      <td>New York</td>\n",
              "      <td>New York City</td>\n",
              "      <td>12</td>\n",
              "      <td>8</td>\n",
              "    </tr>\n",
              "    <tr>\n",
              "      <th>25076</th>\n",
              "      <td>319631</td>\n",
              "      <td>34in Ultrawide Monitor</td>\n",
              "      <td>1</td>\n",
              "      <td>379.99</td>\n",
              "      <td>2019-12-17 22:35:00</td>\n",
              "      <td>363 Highland St, Austin, TX 73301</td>\n",
              "      <td>379.99</td>\n",
              "      <td>Texas</td>\n",
              "      <td>Austin</td>\n",
              "      <td>12</td>\n",
              "      <td>22</td>\n",
              "    </tr>\n",
              "    <tr>\n",
              "      <th>25077</th>\n",
              "      <td>319631</td>\n",
              "      <td>Lightning Charging Cable</td>\n",
              "      <td>1</td>\n",
              "      <td>14.95</td>\n",
              "      <td>2019-12-17 22:35:00</td>\n",
              "      <td>363 Highland St, Austin, TX 73301</td>\n",
              "      <td>14.95</td>\n",
              "      <td>Texas</td>\n",
              "      <td>Austin</td>\n",
              "      <td>12</td>\n",
              "      <td>22</td>\n",
              "    </tr>\n",
              "  </tbody>\n",
              "</table>\n",
              "<p>42357 rows × 11 columns</p>\n",
              "</div>"
            ],
            "text/plain": [
              "      Order ID                   Product  ...  Month  Hour\n",
              "41      141275      USB-C Charging Cable  ...      1    16\n",
              "42      141275          Wired Headphones  ...      1    16\n",
              "57      141290  Apple Airpods Headphones  ...      1     8\n",
              "58      141290     AA Batteries (4-pack)  ...      1     8\n",
              "133     141365           Vareebadd Phone  ...      1    11\n",
              "...        ...                       ...  ...    ...   ...\n",
              "25028   319584          Wired Headphones  ...     12     0\n",
              "25040   319596                    iPhone  ...     12     8\n",
              "25041   319596  Lightning Charging Cable  ...     12     8\n",
              "25076   319631    34in Ultrawide Monitor  ...     12    22\n",
              "25077   319631  Lightning Charging Cable  ...     12    22\n",
              "\n",
              "[42357 rows x 11 columns]"
            ]
          },
          "metadata": {},
          "execution_count": 91
        }
      ]
    },
    {
      "cell_type": "code",
      "metadata": {
        "id": "K_xS9vu_u_g8"
      },
      "source": [
        "newGroup=oftenPurchaseData.groupby(\"Order ID\")[\"Product\"].transform(lambda x:\",\".join(x))"
      ],
      "execution_count": 92,
      "outputs": []
    },
    {
      "cell_type": "code",
      "metadata": {
        "colab": {
          "base_uri": "https://localhost:8080/"
        },
        "id": "O3XZi9YBvrbt",
        "outputId": "4e6afb8f-9a61-4482-cd87-a2772d8bc6e9"
      },
      "source": [
        "newGroup.head()"
      ],
      "execution_count": 93,
      "outputs": [
        {
          "output_type": "execute_result",
          "data": {
            "text/plain": [
              "41              USB-C Charging Cable,Wired Headphones\n",
              "42              USB-C Charging Cable,Wired Headphones\n",
              "57     Apple Airpods Headphones,AA Batteries (4-pack)\n",
              "58     Apple Airpods Headphones,AA Batteries (4-pack)\n",
              "133                  Vareebadd Phone,Wired Headphones\n",
              "Name: Product, dtype: object"
            ]
          },
          "metadata": {},
          "execution_count": 93
        }
      ]
    },
    {
      "cell_type": "code",
      "metadata": {
        "id": "FoZ7YFS3woOF"
      },
      "source": [
        "frequency={}\n",
        "for values in newGroup:\n",
        "  toCalculateFrequency=(tuple((values).split(\",\")))\n",
        "  if toCalculateFrequency in frequency:\n",
        "    frequency[toCalculateFrequency]+=1\n",
        "  else:\n",
        "    frequency[toCalculateFrequency]=1"
      ],
      "execution_count": 103,
      "outputs": []
    },
    {
      "cell_type": "code",
      "metadata": {
        "colab": {
          "base_uri": "https://localhost:8080/"
        },
        "id": "t5ab3VkAxslW",
        "outputId": "94cfa249-98a1-4ff7-ca1f-3394aa237a64"
      },
      "source": [
        "frequency[(\"Vareebadd Phone\",\"USB-C Charging Cable\",\"Wired Headphones\")]"
      ],
      "execution_count": 106,
      "outputs": [
        {
          "output_type": "execute_result",
          "data": {
            "text/plain": [
              "84"
            ]
          },
          "metadata": {},
          "execution_count": 106
        }
      ]
    }
  ]
}