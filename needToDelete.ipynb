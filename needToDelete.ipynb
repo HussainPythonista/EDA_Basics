{
  "nbformat": 4,
  "nbformat_minor": 0,
  "metadata": {
    "colab": {
      "name": "needToDelete.ipynb",
      "provenance": [],
      "authorship_tag": "ABX9TyMfK14I/rUP1pplAw/ONZqo",
      "include_colab_link": true
    },
    "kernelspec": {
      "name": "python3",
      "display_name": "Python 3"
    },
    "language_info": {
      "name": "python"
    }
  },
  "cells": [
    {
      "cell_type": "markdown",
      "metadata": {
        "id": "view-in-github",
        "colab_type": "text"
      },
      "source": [
        "<a href=\"https://colab.research.google.com/github/HussainPythonista/EDA_Basics/blob/main/needToDelete.ipynb\" target=\"_parent\"><img src=\"https://colab.research.google.com/assets/colab-badge.svg\" alt=\"Open In Colab\"/></a>"
      ]
    },
    {
      "cell_type": "code",
      "execution_count": 18,
      "metadata": {
        "colab": {
          "base_uri": "https://localhost:8080/"
        },
        "id": "ENktROfRU2Ky",
        "outputId": "0c240123-6443-48f7-ee34-583a117774a2"
      },
      "outputs": [
        {
          "output_type": "execute_result",
          "data": {
            "text/plain": [
              "['a', 'c', 'd']"
            ]
          },
          "metadata": {},
          "execution_count": 18
        }
      ],
      "source": [
        "def char_frequency(string,n):\n",
        "  letter_freq = dict()\n",
        "  for letter in string:\n",
        "    if letter not in letter_freq.keys():\n",
        "      letter_freq[letter] = 1\n",
        "    else:\n",
        "      letter_freq[letter] += 1\n",
        "  #print(letter_freq)\n",
        "  listOfTuples=(sorted(letter_freq.items(),key=lambda x:x[1],reverse=True))#,key=lambda x:x[1]))\n",
        "  untilN=(listOfTuples[:n])\n",
        "\n",
        "  final_list = []\n",
        "  for tup in untilN:\n",
        "    final_list.append(tup[0]) \n",
        "   \n",
        "  \n",
        "  return(sorted(final_list))\n",
        "#print(char_frequency(\"ddddaacccb\",3))\n",
        "char_frequency(\"ddddaacccb\",3)"
      ]
    },
    {
      "cell_type": "code",
      "source": [
        "import numpy as np\n",
        "x=3\n",
        "y=6\n",
        "#write your code here\n",
        "def TwoDArray(row,column):\n",
        "    box=[]\n",
        "    for rows in range(row):#Outer\n",
        "      tempPack=[]\n",
        "      for cols in range(column):#inner\n",
        "        task=(rows+cols)/2\n",
        "\n",
        "        tempPack.append(task)\n",
        "\n",
        "      box.append(tempPack)\n",
        "    \n",
        "    print(box)\n",
        "print(TwoDArray(x,y))"
      ],
      "metadata": {
        "colab": {
          "base_uri": "https://localhost:8080/"
        },
        "id": "t8h9_cNGR7tP",
        "outputId": "a4dbdfa1-5962-49ef-f565-a32bce505bff"
      },
      "execution_count": 39,
      "outputs": [
        {
          "output_type": "stream",
          "name": "stdout",
          "text": [
            "[[0.0, 0.5, 1.0, 1.5, 2.0, 2.5], [0.5, 1.0, 1.5, 2.0, 2.5, 3.0], [1.0, 1.5, 2.0, 2.5, 3.0, 3.5]]\n",
            "None\n"
          ]
        }
      ]
    },
    {
      "cell_type": "code",
      "source": [
        "\n",
        "        \n",
        "        for j in range(column):\n",
        "            intVal=i+j\n",
        "            tempArray.append(intVal/2)\n",
        "        finalArray.append(tempArray)\n",
        "    return np.array(finalArray)"
      ],
      "metadata": {
        "id": "wgivybHFUycj"
      },
      "execution_count": null,
      "outputs": []
    }
  ]
}